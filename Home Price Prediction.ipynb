{
 "cells": [
  {
   "cell_type": "markdown",
   "id": "2174a6cd",
   "metadata": {},
   "source": [
    "# Home Price Prediction"
   ]
  },
  {
   "cell_type": "markdown",
   "id": "cc3f05b0",
   "metadata": {},
   "source": [
    "## Importing Relevent Libraries"
   ]
  },
  {
   "cell_type": "code",
   "execution_count": 1,
   "id": "425040cd",
   "metadata": {},
   "outputs": [],
   "source": [
    "import pandas as pd # for Data Frame\n",
    "import numpy as np # for mathemetical operation\n",
    "import matplotlib.pyplot as plt # for Visulization\n",
    "%matplotlib inline\n",
    "import seaborn as sns # for Visulization\n",
    "import warnings # for ignore warnings\n",
    "warnings.filterwarnings('ignore')\n",
    "from sklearn.linear_model import LinearRegression # for Regression in Machine Learning\n",
    "from sklearn.metrics import r2_score,mean_squared_error,mean_absolute_error # for Accuracy\n",
    "from sklearn.model_selection import train_test_split # for split data in to Train and Test\n",
    "from sklearn.linear_model import Ridge # for Increasing Accuracy\n",
    "from sklearn.linear_model import Lasso # for Increasing Accuracy"
   ]
  },
  {
   "cell_type": "markdown",
   "id": "a127a43e",
   "metadata": {},
   "source": [
    "## Part 1 - Data Exploration and Pre-processing"
   ]
  },
  {
   "cell_type": "markdown",
   "id": "979aa522",
   "metadata": {},
   "source": [
    "### 1) Load the given dataset"
   ]
  },
  {
   "cell_type": "code",
   "execution_count": 2,
   "id": "9ce644ff",
   "metadata": {},
   "outputs": [
    {
     "data": {
      "text/html": [
       "<div>\n",
       "<style scoped>\n",
       "    .dataframe tbody tr th:only-of-type {\n",
       "        vertical-align: middle;\n",
       "    }\n",
       "\n",
       "    .dataframe tbody tr th {\n",
       "        vertical-align: top;\n",
       "    }\n",
       "\n",
       "    .dataframe thead th {\n",
       "        text-align: right;\n",
       "    }\n",
       "</style>\n",
       "<table border=\"1\" class=\"dataframe\">\n",
       "  <thead>\n",
       "    <tr style=\"text-align: right;\">\n",
       "      <th></th>\n",
       "      <th>Suburb</th>\n",
       "      <th>Address</th>\n",
       "      <th>Rooms</th>\n",
       "      <th>Type</th>\n",
       "      <th>Price</th>\n",
       "      <th>Method</th>\n",
       "      <th>SellerG</th>\n",
       "      <th>Date</th>\n",
       "      <th>Distance</th>\n",
       "      <th>Postcode</th>\n",
       "      <th>...</th>\n",
       "      <th>Bathroom</th>\n",
       "      <th>Car</th>\n",
       "      <th>Landsize</th>\n",
       "      <th>BuildingArea</th>\n",
       "      <th>YearBuilt</th>\n",
       "      <th>CouncilArea</th>\n",
       "      <th>Lattitude</th>\n",
       "      <th>Longtitude</th>\n",
       "      <th>Regionname</th>\n",
       "      <th>Propertycount</th>\n",
       "    </tr>\n",
       "  </thead>\n",
       "  <tbody>\n",
       "    <tr>\n",
       "      <th>0</th>\n",
       "      <td>Abbotsford</td>\n",
       "      <td>68 Studley St</td>\n",
       "      <td>2</td>\n",
       "      <td>h</td>\n",
       "      <td>NaN</td>\n",
       "      <td>SS</td>\n",
       "      <td>Jellis</td>\n",
       "      <td>03/09/2016</td>\n",
       "      <td>2.5</td>\n",
       "      <td>3067.0</td>\n",
       "      <td>...</td>\n",
       "      <td>1.0</td>\n",
       "      <td>1.0</td>\n",
       "      <td>126.0</td>\n",
       "      <td>NaN</td>\n",
       "      <td>NaN</td>\n",
       "      <td>Yarra City Council</td>\n",
       "      <td>-37.80140</td>\n",
       "      <td>144.99580</td>\n",
       "      <td>Northern Metropolitan</td>\n",
       "      <td>4019.0</td>\n",
       "    </tr>\n",
       "    <tr>\n",
       "      <th>1</th>\n",
       "      <td>Abbotsford</td>\n",
       "      <td>85 Turner St</td>\n",
       "      <td>2</td>\n",
       "      <td>h</td>\n",
       "      <td>1480000.0</td>\n",
       "      <td>S</td>\n",
       "      <td>Biggin</td>\n",
       "      <td>03/12/2016</td>\n",
       "      <td>2.5</td>\n",
       "      <td>3067.0</td>\n",
       "      <td>...</td>\n",
       "      <td>1.0</td>\n",
       "      <td>1.0</td>\n",
       "      <td>202.0</td>\n",
       "      <td>NaN</td>\n",
       "      <td>NaN</td>\n",
       "      <td>Yarra City Council</td>\n",
       "      <td>-37.79960</td>\n",
       "      <td>144.99840</td>\n",
       "      <td>Northern Metropolitan</td>\n",
       "      <td>4019.0</td>\n",
       "    </tr>\n",
       "    <tr>\n",
       "      <th>2</th>\n",
       "      <td>Abbotsford</td>\n",
       "      <td>25 Bloomburg St</td>\n",
       "      <td>2</td>\n",
       "      <td>h</td>\n",
       "      <td>1035000.0</td>\n",
       "      <td>S</td>\n",
       "      <td>Biggin</td>\n",
       "      <td>04/02/2016</td>\n",
       "      <td>2.5</td>\n",
       "      <td>3067.0</td>\n",
       "      <td>...</td>\n",
       "      <td>1.0</td>\n",
       "      <td>0.0</td>\n",
       "      <td>156.0</td>\n",
       "      <td>79.0</td>\n",
       "      <td>1900.0</td>\n",
       "      <td>Yarra City Council</td>\n",
       "      <td>-37.80790</td>\n",
       "      <td>144.99340</td>\n",
       "      <td>Northern Metropolitan</td>\n",
       "      <td>4019.0</td>\n",
       "    </tr>\n",
       "    <tr>\n",
       "      <th>3</th>\n",
       "      <td>Abbotsford</td>\n",
       "      <td>18/659 Victoria St</td>\n",
       "      <td>3</td>\n",
       "      <td>u</td>\n",
       "      <td>NaN</td>\n",
       "      <td>VB</td>\n",
       "      <td>Rounds</td>\n",
       "      <td>04/02/2016</td>\n",
       "      <td>2.5</td>\n",
       "      <td>3067.0</td>\n",
       "      <td>...</td>\n",
       "      <td>2.0</td>\n",
       "      <td>1.0</td>\n",
       "      <td>0.0</td>\n",
       "      <td>NaN</td>\n",
       "      <td>NaN</td>\n",
       "      <td>Yarra City Council</td>\n",
       "      <td>-37.81140</td>\n",
       "      <td>145.01160</td>\n",
       "      <td>Northern Metropolitan</td>\n",
       "      <td>4019.0</td>\n",
       "    </tr>\n",
       "    <tr>\n",
       "      <th>4</th>\n",
       "      <td>Abbotsford</td>\n",
       "      <td>5 Charles St</td>\n",
       "      <td>3</td>\n",
       "      <td>h</td>\n",
       "      <td>1465000.0</td>\n",
       "      <td>SP</td>\n",
       "      <td>Biggin</td>\n",
       "      <td>04/03/2017</td>\n",
       "      <td>2.5</td>\n",
       "      <td>3067.0</td>\n",
       "      <td>...</td>\n",
       "      <td>2.0</td>\n",
       "      <td>0.0</td>\n",
       "      <td>134.0</td>\n",
       "      <td>150.0</td>\n",
       "      <td>1900.0</td>\n",
       "      <td>Yarra City Council</td>\n",
       "      <td>-37.80930</td>\n",
       "      <td>144.99440</td>\n",
       "      <td>Northern Metropolitan</td>\n",
       "      <td>4019.0</td>\n",
       "    </tr>\n",
       "    <tr>\n",
       "      <th>...</th>\n",
       "      <td>...</td>\n",
       "      <td>...</td>\n",
       "      <td>...</td>\n",
       "      <td>...</td>\n",
       "      <td>...</td>\n",
       "      <td>...</td>\n",
       "      <td>...</td>\n",
       "      <td>...</td>\n",
       "      <td>...</td>\n",
       "      <td>...</td>\n",
       "      <td>...</td>\n",
       "      <td>...</td>\n",
       "      <td>...</td>\n",
       "      <td>...</td>\n",
       "      <td>...</td>\n",
       "      <td>...</td>\n",
       "      <td>...</td>\n",
       "      <td>...</td>\n",
       "      <td>...</td>\n",
       "      <td>...</td>\n",
       "      <td>...</td>\n",
       "    </tr>\n",
       "    <tr>\n",
       "      <th>34852</th>\n",
       "      <td>Yarraville</td>\n",
       "      <td>13 Burns St</td>\n",
       "      <td>4</td>\n",
       "      <td>h</td>\n",
       "      <td>1480000.0</td>\n",
       "      <td>PI</td>\n",
       "      <td>Jas</td>\n",
       "      <td>24/02/2018</td>\n",
       "      <td>6.3</td>\n",
       "      <td>3013.0</td>\n",
       "      <td>...</td>\n",
       "      <td>1.0</td>\n",
       "      <td>3.0</td>\n",
       "      <td>593.0</td>\n",
       "      <td>NaN</td>\n",
       "      <td>NaN</td>\n",
       "      <td>Maribyrnong City Council</td>\n",
       "      <td>-37.81053</td>\n",
       "      <td>144.88467</td>\n",
       "      <td>Western Metropolitan</td>\n",
       "      <td>6543.0</td>\n",
       "    </tr>\n",
       "    <tr>\n",
       "      <th>34853</th>\n",
       "      <td>Yarraville</td>\n",
       "      <td>29A Murray St</td>\n",
       "      <td>2</td>\n",
       "      <td>h</td>\n",
       "      <td>888000.0</td>\n",
       "      <td>SP</td>\n",
       "      <td>Sweeney</td>\n",
       "      <td>24/02/2018</td>\n",
       "      <td>6.3</td>\n",
       "      <td>3013.0</td>\n",
       "      <td>...</td>\n",
       "      <td>2.0</td>\n",
       "      <td>1.0</td>\n",
       "      <td>98.0</td>\n",
       "      <td>104.0</td>\n",
       "      <td>2018.0</td>\n",
       "      <td>Maribyrnong City Council</td>\n",
       "      <td>-37.81551</td>\n",
       "      <td>144.88826</td>\n",
       "      <td>Western Metropolitan</td>\n",
       "      <td>6543.0</td>\n",
       "    </tr>\n",
       "    <tr>\n",
       "      <th>34854</th>\n",
       "      <td>Yarraville</td>\n",
       "      <td>147A Severn St</td>\n",
       "      <td>2</td>\n",
       "      <td>t</td>\n",
       "      <td>705000.0</td>\n",
       "      <td>S</td>\n",
       "      <td>Jas</td>\n",
       "      <td>24/02/2018</td>\n",
       "      <td>6.3</td>\n",
       "      <td>3013.0</td>\n",
       "      <td>...</td>\n",
       "      <td>1.0</td>\n",
       "      <td>2.0</td>\n",
       "      <td>220.0</td>\n",
       "      <td>120.0</td>\n",
       "      <td>2000.0</td>\n",
       "      <td>Maribyrnong City Council</td>\n",
       "      <td>-37.82286</td>\n",
       "      <td>144.87856</td>\n",
       "      <td>Western Metropolitan</td>\n",
       "      <td>6543.0</td>\n",
       "    </tr>\n",
       "    <tr>\n",
       "      <th>34855</th>\n",
       "      <td>Yarraville</td>\n",
       "      <td>12/37 Stephen St</td>\n",
       "      <td>3</td>\n",
       "      <td>h</td>\n",
       "      <td>1140000.0</td>\n",
       "      <td>SP</td>\n",
       "      <td>hockingstuart</td>\n",
       "      <td>24/02/2018</td>\n",
       "      <td>6.3</td>\n",
       "      <td>3013.0</td>\n",
       "      <td>...</td>\n",
       "      <td>NaN</td>\n",
       "      <td>NaN</td>\n",
       "      <td>NaN</td>\n",
       "      <td>NaN</td>\n",
       "      <td>NaN</td>\n",
       "      <td>Maribyrnong City Council</td>\n",
       "      <td>NaN</td>\n",
       "      <td>NaN</td>\n",
       "      <td>Western Metropolitan</td>\n",
       "      <td>6543.0</td>\n",
       "    </tr>\n",
       "    <tr>\n",
       "      <th>34856</th>\n",
       "      <td>Yarraville</td>\n",
       "      <td>3 Tarrengower St</td>\n",
       "      <td>2</td>\n",
       "      <td>h</td>\n",
       "      <td>1020000.0</td>\n",
       "      <td>PI</td>\n",
       "      <td>RW</td>\n",
       "      <td>24/02/2018</td>\n",
       "      <td>6.3</td>\n",
       "      <td>3013.0</td>\n",
       "      <td>...</td>\n",
       "      <td>1.0</td>\n",
       "      <td>0.0</td>\n",
       "      <td>250.0</td>\n",
       "      <td>103.0</td>\n",
       "      <td>1930.0</td>\n",
       "      <td>Maribyrnong City Council</td>\n",
       "      <td>-37.81810</td>\n",
       "      <td>144.89351</td>\n",
       "      <td>Western Metropolitan</td>\n",
       "      <td>6543.0</td>\n",
       "    </tr>\n",
       "  </tbody>\n",
       "</table>\n",
       "<p>34857 rows × 21 columns</p>\n",
       "</div>"
      ],
      "text/plain": [
       "           Suburb             Address  Rooms Type      Price Method  \\\n",
       "0      Abbotsford       68 Studley St      2    h        NaN     SS   \n",
       "1      Abbotsford        85 Turner St      2    h  1480000.0      S   \n",
       "2      Abbotsford     25 Bloomburg St      2    h  1035000.0      S   \n",
       "3      Abbotsford  18/659 Victoria St      3    u        NaN     VB   \n",
       "4      Abbotsford        5 Charles St      3    h  1465000.0     SP   \n",
       "...           ...                 ...    ...  ...        ...    ...   \n",
       "34852  Yarraville         13 Burns St      4    h  1480000.0     PI   \n",
       "34853  Yarraville       29A Murray St      2    h   888000.0     SP   \n",
       "34854  Yarraville      147A Severn St      2    t   705000.0      S   \n",
       "34855  Yarraville    12/37 Stephen St      3    h  1140000.0     SP   \n",
       "34856  Yarraville    3 Tarrengower St      2    h  1020000.0     PI   \n",
       "\n",
       "             SellerG        Date  Distance  Postcode  ...  Bathroom  Car  \\\n",
       "0             Jellis  03/09/2016       2.5    3067.0  ...       1.0  1.0   \n",
       "1             Biggin  03/12/2016       2.5    3067.0  ...       1.0  1.0   \n",
       "2             Biggin  04/02/2016       2.5    3067.0  ...       1.0  0.0   \n",
       "3             Rounds  04/02/2016       2.5    3067.0  ...       2.0  1.0   \n",
       "4             Biggin  04/03/2017       2.5    3067.0  ...       2.0  0.0   \n",
       "...              ...         ...       ...       ...  ...       ...  ...   \n",
       "34852            Jas  24/02/2018       6.3    3013.0  ...       1.0  3.0   \n",
       "34853        Sweeney  24/02/2018       6.3    3013.0  ...       2.0  1.0   \n",
       "34854            Jas  24/02/2018       6.3    3013.0  ...       1.0  2.0   \n",
       "34855  hockingstuart  24/02/2018       6.3    3013.0  ...       NaN  NaN   \n",
       "34856             RW  24/02/2018       6.3    3013.0  ...       1.0  0.0   \n",
       "\n",
       "       Landsize  BuildingArea  YearBuilt               CouncilArea Lattitude  \\\n",
       "0         126.0           NaN        NaN        Yarra City Council -37.80140   \n",
       "1         202.0           NaN        NaN        Yarra City Council -37.79960   \n",
       "2         156.0          79.0     1900.0        Yarra City Council -37.80790   \n",
       "3           0.0           NaN        NaN        Yarra City Council -37.81140   \n",
       "4         134.0         150.0     1900.0        Yarra City Council -37.80930   \n",
       "...         ...           ...        ...                       ...       ...   \n",
       "34852     593.0           NaN        NaN  Maribyrnong City Council -37.81053   \n",
       "34853      98.0         104.0     2018.0  Maribyrnong City Council -37.81551   \n",
       "34854     220.0         120.0     2000.0  Maribyrnong City Council -37.82286   \n",
       "34855       NaN           NaN        NaN  Maribyrnong City Council       NaN   \n",
       "34856     250.0         103.0     1930.0  Maribyrnong City Council -37.81810   \n",
       "\n",
       "       Longtitude             Regionname Propertycount  \n",
       "0       144.99580  Northern Metropolitan        4019.0  \n",
       "1       144.99840  Northern Metropolitan        4019.0  \n",
       "2       144.99340  Northern Metropolitan        4019.0  \n",
       "3       145.01160  Northern Metropolitan        4019.0  \n",
       "4       144.99440  Northern Metropolitan        4019.0  \n",
       "...           ...                    ...           ...  \n",
       "34852   144.88467   Western Metropolitan        6543.0  \n",
       "34853   144.88826   Western Metropolitan        6543.0  \n",
       "34854   144.87856   Western Metropolitan        6543.0  \n",
       "34855         NaN   Western Metropolitan        6543.0  \n",
       "34856   144.89351   Western Metropolitan        6543.0  \n",
       "\n",
       "[34857 rows x 21 columns]"
      ]
     },
     "execution_count": 2,
     "metadata": {},
     "output_type": "execute_result"
    }
   ],
   "source": [
    "df = pd.read_csv('Project_2_Home_Price_Prediction.csv')\n",
    "df"
   ]
  },
  {
   "cell_type": "markdown",
   "id": "480ec2af",
   "metadata": {},
   "source": [
    "### 2) Print all the columns"
   ]
  },
  {
   "cell_type": "code",
   "execution_count": 3,
   "id": "b17086fc",
   "metadata": {},
   "outputs": [
    {
     "data": {
      "text/plain": [
       "Index(['Suburb', 'Address', 'Rooms', 'Type', 'Price', 'Method', 'SellerG',\n",
       "       'Date', 'Distance', 'Postcode', 'Bedroom2', 'Bathroom', 'Car',\n",
       "       'Landsize', 'BuildingArea', 'YearBuilt', 'CouncilArea', 'Lattitude',\n",
       "       'Longtitude', 'Regionname', 'Propertycount'],\n",
       "      dtype='object')"
      ]
     },
     "execution_count": 3,
     "metadata": {},
     "output_type": "execute_result"
    }
   ],
   "source": [
    "df.columns"
   ]
  },
  {
   "cell_type": "markdown",
   "id": "1badddeb",
   "metadata": {},
   "source": [
    "### 3) Describe the data"
   ]
  },
  {
   "cell_type": "code",
   "execution_count": 4,
   "id": "18bc4166",
   "metadata": {},
   "outputs": [
    {
     "data": {
      "text/html": [
       "<div>\n",
       "<style scoped>\n",
       "    .dataframe tbody tr th:only-of-type {\n",
       "        vertical-align: middle;\n",
       "    }\n",
       "\n",
       "    .dataframe tbody tr th {\n",
       "        vertical-align: top;\n",
       "    }\n",
       "\n",
       "    .dataframe thead th {\n",
       "        text-align: right;\n",
       "    }\n",
       "</style>\n",
       "<table border=\"1\" class=\"dataframe\">\n",
       "  <thead>\n",
       "    <tr style=\"text-align: right;\">\n",
       "      <th></th>\n",
       "      <th>Rooms</th>\n",
       "      <th>Price</th>\n",
       "      <th>Distance</th>\n",
       "      <th>Postcode</th>\n",
       "      <th>Bedroom2</th>\n",
       "      <th>Bathroom</th>\n",
       "      <th>Car</th>\n",
       "      <th>Landsize</th>\n",
       "      <th>BuildingArea</th>\n",
       "      <th>YearBuilt</th>\n",
       "      <th>Lattitude</th>\n",
       "      <th>Longtitude</th>\n",
       "      <th>Propertycount</th>\n",
       "    </tr>\n",
       "  </thead>\n",
       "  <tbody>\n",
       "    <tr>\n",
       "      <th>count</th>\n",
       "      <td>34857.000000</td>\n",
       "      <td>2.724700e+04</td>\n",
       "      <td>34856.000000</td>\n",
       "      <td>34856.000000</td>\n",
       "      <td>26640.000000</td>\n",
       "      <td>26631.000000</td>\n",
       "      <td>26129.000000</td>\n",
       "      <td>23047.000000</td>\n",
       "      <td>13742.00000</td>\n",
       "      <td>15551.000000</td>\n",
       "      <td>26881.000000</td>\n",
       "      <td>26881.000000</td>\n",
       "      <td>34854.000000</td>\n",
       "    </tr>\n",
       "    <tr>\n",
       "      <th>mean</th>\n",
       "      <td>3.031012</td>\n",
       "      <td>1.050173e+06</td>\n",
       "      <td>11.184929</td>\n",
       "      <td>3116.062859</td>\n",
       "      <td>3.084647</td>\n",
       "      <td>1.624798</td>\n",
       "      <td>1.728845</td>\n",
       "      <td>593.598993</td>\n",
       "      <td>160.25640</td>\n",
       "      <td>1965.289885</td>\n",
       "      <td>-37.810634</td>\n",
       "      <td>145.001851</td>\n",
       "      <td>7572.888306</td>\n",
       "    </tr>\n",
       "    <tr>\n",
       "      <th>std</th>\n",
       "      <td>0.969933</td>\n",
       "      <td>6.414671e+05</td>\n",
       "      <td>6.788892</td>\n",
       "      <td>109.023903</td>\n",
       "      <td>0.980690</td>\n",
       "      <td>0.724212</td>\n",
       "      <td>1.010771</td>\n",
       "      <td>3398.841946</td>\n",
       "      <td>401.26706</td>\n",
       "      <td>37.328178</td>\n",
       "      <td>0.090279</td>\n",
       "      <td>0.120169</td>\n",
       "      <td>4428.090313</td>\n",
       "    </tr>\n",
       "    <tr>\n",
       "      <th>min</th>\n",
       "      <td>1.000000</td>\n",
       "      <td>8.500000e+04</td>\n",
       "      <td>0.000000</td>\n",
       "      <td>3000.000000</td>\n",
       "      <td>0.000000</td>\n",
       "      <td>0.000000</td>\n",
       "      <td>0.000000</td>\n",
       "      <td>0.000000</td>\n",
       "      <td>0.00000</td>\n",
       "      <td>1196.000000</td>\n",
       "      <td>-38.190430</td>\n",
       "      <td>144.423790</td>\n",
       "      <td>83.000000</td>\n",
       "    </tr>\n",
       "    <tr>\n",
       "      <th>25%</th>\n",
       "      <td>2.000000</td>\n",
       "      <td>6.350000e+05</td>\n",
       "      <td>6.400000</td>\n",
       "      <td>3051.000000</td>\n",
       "      <td>2.000000</td>\n",
       "      <td>1.000000</td>\n",
       "      <td>1.000000</td>\n",
       "      <td>224.000000</td>\n",
       "      <td>102.00000</td>\n",
       "      <td>1940.000000</td>\n",
       "      <td>-37.862950</td>\n",
       "      <td>144.933500</td>\n",
       "      <td>4385.000000</td>\n",
       "    </tr>\n",
       "    <tr>\n",
       "      <th>50%</th>\n",
       "      <td>3.000000</td>\n",
       "      <td>8.700000e+05</td>\n",
       "      <td>10.300000</td>\n",
       "      <td>3103.000000</td>\n",
       "      <td>3.000000</td>\n",
       "      <td>2.000000</td>\n",
       "      <td>2.000000</td>\n",
       "      <td>521.000000</td>\n",
       "      <td>136.00000</td>\n",
       "      <td>1970.000000</td>\n",
       "      <td>-37.807600</td>\n",
       "      <td>145.007800</td>\n",
       "      <td>6763.000000</td>\n",
       "    </tr>\n",
       "    <tr>\n",
       "      <th>75%</th>\n",
       "      <td>4.000000</td>\n",
       "      <td>1.295000e+06</td>\n",
       "      <td>14.000000</td>\n",
       "      <td>3156.000000</td>\n",
       "      <td>4.000000</td>\n",
       "      <td>2.000000</td>\n",
       "      <td>2.000000</td>\n",
       "      <td>670.000000</td>\n",
       "      <td>188.00000</td>\n",
       "      <td>2000.000000</td>\n",
       "      <td>-37.754100</td>\n",
       "      <td>145.071900</td>\n",
       "      <td>10412.000000</td>\n",
       "    </tr>\n",
       "    <tr>\n",
       "      <th>max</th>\n",
       "      <td>16.000000</td>\n",
       "      <td>1.120000e+07</td>\n",
       "      <td>48.100000</td>\n",
       "      <td>3978.000000</td>\n",
       "      <td>30.000000</td>\n",
       "      <td>12.000000</td>\n",
       "      <td>26.000000</td>\n",
       "      <td>433014.000000</td>\n",
       "      <td>44515.00000</td>\n",
       "      <td>2106.000000</td>\n",
       "      <td>-37.390200</td>\n",
       "      <td>145.526350</td>\n",
       "      <td>21650.000000</td>\n",
       "    </tr>\n",
       "  </tbody>\n",
       "</table>\n",
       "</div>"
      ],
      "text/plain": [
       "              Rooms         Price      Distance      Postcode      Bedroom2  \\\n",
       "count  34857.000000  2.724700e+04  34856.000000  34856.000000  26640.000000   \n",
       "mean       3.031012  1.050173e+06     11.184929   3116.062859      3.084647   \n",
       "std        0.969933  6.414671e+05      6.788892    109.023903      0.980690   \n",
       "min        1.000000  8.500000e+04      0.000000   3000.000000      0.000000   \n",
       "25%        2.000000  6.350000e+05      6.400000   3051.000000      2.000000   \n",
       "50%        3.000000  8.700000e+05     10.300000   3103.000000      3.000000   \n",
       "75%        4.000000  1.295000e+06     14.000000   3156.000000      4.000000   \n",
       "max       16.000000  1.120000e+07     48.100000   3978.000000     30.000000   \n",
       "\n",
       "           Bathroom           Car       Landsize  BuildingArea     YearBuilt  \\\n",
       "count  26631.000000  26129.000000   23047.000000   13742.00000  15551.000000   \n",
       "mean       1.624798      1.728845     593.598993     160.25640   1965.289885   \n",
       "std        0.724212      1.010771    3398.841946     401.26706     37.328178   \n",
       "min        0.000000      0.000000       0.000000       0.00000   1196.000000   \n",
       "25%        1.000000      1.000000     224.000000     102.00000   1940.000000   \n",
       "50%        2.000000      2.000000     521.000000     136.00000   1970.000000   \n",
       "75%        2.000000      2.000000     670.000000     188.00000   2000.000000   \n",
       "max       12.000000     26.000000  433014.000000   44515.00000   2106.000000   \n",
       "\n",
       "          Lattitude    Longtitude  Propertycount  \n",
       "count  26881.000000  26881.000000   34854.000000  \n",
       "mean     -37.810634    145.001851    7572.888306  \n",
       "std        0.090279      0.120169    4428.090313  \n",
       "min      -38.190430    144.423790      83.000000  \n",
       "25%      -37.862950    144.933500    4385.000000  \n",
       "50%      -37.807600    145.007800    6763.000000  \n",
       "75%      -37.754100    145.071900   10412.000000  \n",
       "max      -37.390200    145.526350   21650.000000  "
      ]
     },
     "execution_count": 4,
     "metadata": {},
     "output_type": "execute_result"
    }
   ],
   "source": [
    "df.describe()"
   ]
  },
  {
   "cell_type": "markdown",
   "id": "8c98ae70",
   "metadata": {},
   "source": [
    "### 4) Drop address, date, postcode, YearBuilt, lattitude, longitude columns"
   ]
  },
  {
   "cell_type": "code",
   "execution_count": 5,
   "id": "f82a24d1",
   "metadata": {},
   "outputs": [
    {
     "data": {
      "text/html": [
       "<div>\n",
       "<style scoped>\n",
       "    .dataframe tbody tr th:only-of-type {\n",
       "        vertical-align: middle;\n",
       "    }\n",
       "\n",
       "    .dataframe tbody tr th {\n",
       "        vertical-align: top;\n",
       "    }\n",
       "\n",
       "    .dataframe thead th {\n",
       "        text-align: right;\n",
       "    }\n",
       "</style>\n",
       "<table border=\"1\" class=\"dataframe\">\n",
       "  <thead>\n",
       "    <tr style=\"text-align: right;\">\n",
       "      <th></th>\n",
       "      <th>Suburb</th>\n",
       "      <th>Rooms</th>\n",
       "      <th>Type</th>\n",
       "      <th>Price</th>\n",
       "      <th>Method</th>\n",
       "      <th>SellerG</th>\n",
       "      <th>Distance</th>\n",
       "      <th>Bedroom2</th>\n",
       "      <th>Bathroom</th>\n",
       "      <th>Car</th>\n",
       "      <th>Landsize</th>\n",
       "      <th>BuildingArea</th>\n",
       "      <th>CouncilArea</th>\n",
       "      <th>Regionname</th>\n",
       "      <th>Propertycount</th>\n",
       "    </tr>\n",
       "  </thead>\n",
       "  <tbody>\n",
       "    <tr>\n",
       "      <th>0</th>\n",
       "      <td>Abbotsford</td>\n",
       "      <td>2</td>\n",
       "      <td>h</td>\n",
       "      <td>NaN</td>\n",
       "      <td>SS</td>\n",
       "      <td>Jellis</td>\n",
       "      <td>2.5</td>\n",
       "      <td>2.0</td>\n",
       "      <td>1.0</td>\n",
       "      <td>1.0</td>\n",
       "      <td>126.0</td>\n",
       "      <td>NaN</td>\n",
       "      <td>Yarra City Council</td>\n",
       "      <td>Northern Metropolitan</td>\n",
       "      <td>4019.0</td>\n",
       "    </tr>\n",
       "    <tr>\n",
       "      <th>1</th>\n",
       "      <td>Abbotsford</td>\n",
       "      <td>2</td>\n",
       "      <td>h</td>\n",
       "      <td>1480000.0</td>\n",
       "      <td>S</td>\n",
       "      <td>Biggin</td>\n",
       "      <td>2.5</td>\n",
       "      <td>2.0</td>\n",
       "      <td>1.0</td>\n",
       "      <td>1.0</td>\n",
       "      <td>202.0</td>\n",
       "      <td>NaN</td>\n",
       "      <td>Yarra City Council</td>\n",
       "      <td>Northern Metropolitan</td>\n",
       "      <td>4019.0</td>\n",
       "    </tr>\n",
       "    <tr>\n",
       "      <th>2</th>\n",
       "      <td>Abbotsford</td>\n",
       "      <td>2</td>\n",
       "      <td>h</td>\n",
       "      <td>1035000.0</td>\n",
       "      <td>S</td>\n",
       "      <td>Biggin</td>\n",
       "      <td>2.5</td>\n",
       "      <td>2.0</td>\n",
       "      <td>1.0</td>\n",
       "      <td>0.0</td>\n",
       "      <td>156.0</td>\n",
       "      <td>79.0</td>\n",
       "      <td>Yarra City Council</td>\n",
       "      <td>Northern Metropolitan</td>\n",
       "      <td>4019.0</td>\n",
       "    </tr>\n",
       "    <tr>\n",
       "      <th>3</th>\n",
       "      <td>Abbotsford</td>\n",
       "      <td>3</td>\n",
       "      <td>u</td>\n",
       "      <td>NaN</td>\n",
       "      <td>VB</td>\n",
       "      <td>Rounds</td>\n",
       "      <td>2.5</td>\n",
       "      <td>3.0</td>\n",
       "      <td>2.0</td>\n",
       "      <td>1.0</td>\n",
       "      <td>0.0</td>\n",
       "      <td>NaN</td>\n",
       "      <td>Yarra City Council</td>\n",
       "      <td>Northern Metropolitan</td>\n",
       "      <td>4019.0</td>\n",
       "    </tr>\n",
       "    <tr>\n",
       "      <th>4</th>\n",
       "      <td>Abbotsford</td>\n",
       "      <td>3</td>\n",
       "      <td>h</td>\n",
       "      <td>1465000.0</td>\n",
       "      <td>SP</td>\n",
       "      <td>Biggin</td>\n",
       "      <td>2.5</td>\n",
       "      <td>3.0</td>\n",
       "      <td>2.0</td>\n",
       "      <td>0.0</td>\n",
       "      <td>134.0</td>\n",
       "      <td>150.0</td>\n",
       "      <td>Yarra City Council</td>\n",
       "      <td>Northern Metropolitan</td>\n",
       "      <td>4019.0</td>\n",
       "    </tr>\n",
       "    <tr>\n",
       "      <th>...</th>\n",
       "      <td>...</td>\n",
       "      <td>...</td>\n",
       "      <td>...</td>\n",
       "      <td>...</td>\n",
       "      <td>...</td>\n",
       "      <td>...</td>\n",
       "      <td>...</td>\n",
       "      <td>...</td>\n",
       "      <td>...</td>\n",
       "      <td>...</td>\n",
       "      <td>...</td>\n",
       "      <td>...</td>\n",
       "      <td>...</td>\n",
       "      <td>...</td>\n",
       "      <td>...</td>\n",
       "    </tr>\n",
       "    <tr>\n",
       "      <th>34852</th>\n",
       "      <td>Yarraville</td>\n",
       "      <td>4</td>\n",
       "      <td>h</td>\n",
       "      <td>1480000.0</td>\n",
       "      <td>PI</td>\n",
       "      <td>Jas</td>\n",
       "      <td>6.3</td>\n",
       "      <td>4.0</td>\n",
       "      <td>1.0</td>\n",
       "      <td>3.0</td>\n",
       "      <td>593.0</td>\n",
       "      <td>NaN</td>\n",
       "      <td>Maribyrnong City Council</td>\n",
       "      <td>Western Metropolitan</td>\n",
       "      <td>6543.0</td>\n",
       "    </tr>\n",
       "    <tr>\n",
       "      <th>34853</th>\n",
       "      <td>Yarraville</td>\n",
       "      <td>2</td>\n",
       "      <td>h</td>\n",
       "      <td>888000.0</td>\n",
       "      <td>SP</td>\n",
       "      <td>Sweeney</td>\n",
       "      <td>6.3</td>\n",
       "      <td>2.0</td>\n",
       "      <td>2.0</td>\n",
       "      <td>1.0</td>\n",
       "      <td>98.0</td>\n",
       "      <td>104.0</td>\n",
       "      <td>Maribyrnong City Council</td>\n",
       "      <td>Western Metropolitan</td>\n",
       "      <td>6543.0</td>\n",
       "    </tr>\n",
       "    <tr>\n",
       "      <th>34854</th>\n",
       "      <td>Yarraville</td>\n",
       "      <td>2</td>\n",
       "      <td>t</td>\n",
       "      <td>705000.0</td>\n",
       "      <td>S</td>\n",
       "      <td>Jas</td>\n",
       "      <td>6.3</td>\n",
       "      <td>2.0</td>\n",
       "      <td>1.0</td>\n",
       "      <td>2.0</td>\n",
       "      <td>220.0</td>\n",
       "      <td>120.0</td>\n",
       "      <td>Maribyrnong City Council</td>\n",
       "      <td>Western Metropolitan</td>\n",
       "      <td>6543.0</td>\n",
       "    </tr>\n",
       "    <tr>\n",
       "      <th>34855</th>\n",
       "      <td>Yarraville</td>\n",
       "      <td>3</td>\n",
       "      <td>h</td>\n",
       "      <td>1140000.0</td>\n",
       "      <td>SP</td>\n",
       "      <td>hockingstuart</td>\n",
       "      <td>6.3</td>\n",
       "      <td>NaN</td>\n",
       "      <td>NaN</td>\n",
       "      <td>NaN</td>\n",
       "      <td>NaN</td>\n",
       "      <td>NaN</td>\n",
       "      <td>Maribyrnong City Council</td>\n",
       "      <td>Western Metropolitan</td>\n",
       "      <td>6543.0</td>\n",
       "    </tr>\n",
       "    <tr>\n",
       "      <th>34856</th>\n",
       "      <td>Yarraville</td>\n",
       "      <td>2</td>\n",
       "      <td>h</td>\n",
       "      <td>1020000.0</td>\n",
       "      <td>PI</td>\n",
       "      <td>RW</td>\n",
       "      <td>6.3</td>\n",
       "      <td>2.0</td>\n",
       "      <td>1.0</td>\n",
       "      <td>0.0</td>\n",
       "      <td>250.0</td>\n",
       "      <td>103.0</td>\n",
       "      <td>Maribyrnong City Council</td>\n",
       "      <td>Western Metropolitan</td>\n",
       "      <td>6543.0</td>\n",
       "    </tr>\n",
       "  </tbody>\n",
       "</table>\n",
       "<p>34857 rows × 15 columns</p>\n",
       "</div>"
      ],
      "text/plain": [
       "           Suburb  Rooms Type      Price Method        SellerG  Distance  \\\n",
       "0      Abbotsford      2    h        NaN     SS         Jellis       2.5   \n",
       "1      Abbotsford      2    h  1480000.0      S         Biggin       2.5   \n",
       "2      Abbotsford      2    h  1035000.0      S         Biggin       2.5   \n",
       "3      Abbotsford      3    u        NaN     VB         Rounds       2.5   \n",
       "4      Abbotsford      3    h  1465000.0     SP         Biggin       2.5   \n",
       "...           ...    ...  ...        ...    ...            ...       ...   \n",
       "34852  Yarraville      4    h  1480000.0     PI            Jas       6.3   \n",
       "34853  Yarraville      2    h   888000.0     SP        Sweeney       6.3   \n",
       "34854  Yarraville      2    t   705000.0      S            Jas       6.3   \n",
       "34855  Yarraville      3    h  1140000.0     SP  hockingstuart       6.3   \n",
       "34856  Yarraville      2    h  1020000.0     PI             RW       6.3   \n",
       "\n",
       "       Bedroom2  Bathroom  Car  Landsize  BuildingArea  \\\n",
       "0           2.0       1.0  1.0     126.0           NaN   \n",
       "1           2.0       1.0  1.0     202.0           NaN   \n",
       "2           2.0       1.0  0.0     156.0          79.0   \n",
       "3           3.0       2.0  1.0       0.0           NaN   \n",
       "4           3.0       2.0  0.0     134.0         150.0   \n",
       "...         ...       ...  ...       ...           ...   \n",
       "34852       4.0       1.0  3.0     593.0           NaN   \n",
       "34853       2.0       2.0  1.0      98.0         104.0   \n",
       "34854       2.0       1.0  2.0     220.0         120.0   \n",
       "34855       NaN       NaN  NaN       NaN           NaN   \n",
       "34856       2.0       1.0  0.0     250.0         103.0   \n",
       "\n",
       "                    CouncilArea             Regionname  Propertycount  \n",
       "0            Yarra City Council  Northern Metropolitan         4019.0  \n",
       "1            Yarra City Council  Northern Metropolitan         4019.0  \n",
       "2            Yarra City Council  Northern Metropolitan         4019.0  \n",
       "3            Yarra City Council  Northern Metropolitan         4019.0  \n",
       "4            Yarra City Council  Northern Metropolitan         4019.0  \n",
       "...                         ...                    ...            ...  \n",
       "34852  Maribyrnong City Council   Western Metropolitan         6543.0  \n",
       "34853  Maribyrnong City Council   Western Metropolitan         6543.0  \n",
       "34854  Maribyrnong City Council   Western Metropolitan         6543.0  \n",
       "34855  Maribyrnong City Council   Western Metropolitan         6543.0  \n",
       "34856  Maribyrnong City Council   Western Metropolitan         6543.0  \n",
       "\n",
       "[34857 rows x 15 columns]"
      ]
     },
     "execution_count": 5,
     "metadata": {},
     "output_type": "execute_result"
    }
   ],
   "source": [
    "df = df.drop(['Address', 'Date', 'Postcode', 'YearBuilt', 'Lattitude', 'Longtitude'], axis='columns')\n",
    "df"
   ]
  },
  {
   "cell_type": "markdown",
   "id": "61afa02c",
   "metadata": {},
   "source": [
    "### 5) Find the count of null values in each columns"
   ]
  },
  {
   "cell_type": "code",
   "execution_count": 6,
   "id": "917081e6",
   "metadata": {},
   "outputs": [
    {
     "data": {
      "text/plain": [
       "Suburb               0\n",
       "Rooms                0\n",
       "Type                 0\n",
       "Price             7610\n",
       "Method               0\n",
       "SellerG              0\n",
       "Distance             1\n",
       "Bedroom2          8217\n",
       "Bathroom          8226\n",
       "Car               8728\n",
       "Landsize         11810\n",
       "BuildingArea     21115\n",
       "CouncilArea          3\n",
       "Regionname           3\n",
       "Propertycount        3\n",
       "dtype: int64"
      ]
     },
     "execution_count": 6,
     "metadata": {},
     "output_type": "execute_result"
    }
   ],
   "source": [
    "df.isnull().sum()"
   ]
  },
  {
   "cell_type": "markdown",
   "id": "ff312430",
   "metadata": {},
   "source": [
    "### 6) Fill the null value of property count, distance, Bedroom2, Bathroom, Car with 0"
   ]
  },
  {
   "cell_type": "code",
   "execution_count": 7,
   "id": "2ff7ceba",
   "metadata": {},
   "outputs": [],
   "source": [
    "df[['Propertycount','Distance', 'Bedroom2', 'Bathroom', 'Car']] = df[['Propertycount','Distance', 'Bedroom2', 'Bathroom', 'Car']].fillna(0)"
   ]
  },
  {
   "cell_type": "markdown",
   "id": "a345a0b6",
   "metadata": {},
   "source": [
    "### 7) Fill Null value of land size and building area columns with Mean"
   ]
  },
  {
   "cell_type": "code",
   "execution_count": 8,
   "id": "3d8bb17b",
   "metadata": {},
   "outputs": [],
   "source": [
    "df['Landsize'] = df['Landsize'].fillna(df.Landsize.mean())"
   ]
  },
  {
   "cell_type": "code",
   "execution_count": 9,
   "id": "602c3037",
   "metadata": {},
   "outputs": [],
   "source": [
    "df['BuildingArea'] = df['BuildingArea'].fillna(df.BuildingArea.mean())"
   ]
  },
  {
   "cell_type": "markdown",
   "id": "951a7cd9",
   "metadata": {},
   "source": [
    "### Drop rest Null values"
   ]
  },
  {
   "cell_type": "code",
   "execution_count": 10,
   "id": "107752cf",
   "metadata": {},
   "outputs": [],
   "source": [
    "df.dropna(inplace=True)"
   ]
  },
  {
   "cell_type": "code",
   "execution_count": 11,
   "id": "b20f6314",
   "metadata": {},
   "outputs": [
    {
     "data": {
      "text/plain": [
       "(27244, 15)"
      ]
     },
     "execution_count": 11,
     "metadata": {},
     "output_type": "execute_result"
    }
   ],
   "source": [
    "df.shape"
   ]
  },
  {
   "cell_type": "code",
   "execution_count": 12,
   "id": "6f87e680",
   "metadata": {},
   "outputs": [
    {
     "data": {
      "text/plain": [
       "Suburb           0\n",
       "Rooms            0\n",
       "Type             0\n",
       "Price            0\n",
       "Method           0\n",
       "SellerG          0\n",
       "Distance         0\n",
       "Bedroom2         0\n",
       "Bathroom         0\n",
       "Car              0\n",
       "Landsize         0\n",
       "BuildingArea     0\n",
       "CouncilArea      0\n",
       "Regionname       0\n",
       "Propertycount    0\n",
       "dtype: int64"
      ]
     },
     "execution_count": 12,
     "metadata": {},
     "output_type": "execute_result"
    }
   ],
   "source": [
    "df.isnull().sum()"
   ]
  },
  {
   "cell_type": "markdown",
   "id": "1bd35131",
   "metadata": {},
   "source": [
    "### 8) Find the unique value in method column"
   ]
  },
  {
   "cell_type": "code",
   "execution_count": 13,
   "id": "725ea637",
   "metadata": {},
   "outputs": [
    {
     "data": {
      "text/plain": [
       "array(['S', 'SP', 'PI', 'VB', 'SA'], dtype=object)"
      ]
     },
     "execution_count": 13,
     "metadata": {},
     "output_type": "execute_result"
    }
   ],
   "source": [
    "df['Method'].unique()"
   ]
  },
  {
   "cell_type": "code",
   "execution_count": 14,
   "id": "9b325c51",
   "metadata": {},
   "outputs": [
    {
     "data": {
      "text/plain": [
       "array(['Biggin', 'Nelson', 'Jellis', 'Dingle', 'Purplebricks', 'Greg',\n",
       "       'LITTLE', 'Collins', 'Kay', 'Beller', 'Marshall', 'hockingstuart',\n",
       "       'Brad', 'Maddison', 'Barry', 'Airport', 'Considine', 'Rendina',\n",
       "       'Ray', 'Propertyau', 'McDonald', 'Frank', 'Prof.', 'Harcourts',\n",
       "       'Thomson', 'Buxton', 'RT', \"Sotheby's\", 'Cayzer', 'Chisholm',\n",
       "       'Brace', 'Miles', 'Holland', 'McGrath', 'Love', 'Thomas', 'Barlow',\n",
       "       'Sweeney', 'Village', 'Jas', 'Williams', 'Gunn&Co', 'Burnham',\n",
       "       'Compton', 'FN', 'Hunter', 'Raine&Horne', 'Noel', 'Hodges', 'Gary',\n",
       "       'Fletchers', 'Woodards', 'Raine', 'Alexkarbon', 'Walshe', 'Weda',\n",
       "       'Stockdale', 'Tim', 'AIME', 'Moonee', 'HAR', 'Edward', 'Philip',\n",
       "       'RW', 'North', 'MICM', 'Ascend', 'Christopher', 'Morrison',\n",
       "       'Mandy', 'R&H', 'Fletchers/One', 'Lindellas', 'Appleby', 'Assisi',\n",
       "       'One', 'Owen', 'Parkes', 'C21', \"O'Brien\", 'Bayside', 'Paul',\n",
       "       'hockingstuart/Buxton', 'First', 'Matthew', 'Melbourne',\n",
       "       'Anderson', 'Nick', 'Allens', 'Bells', 'Trimson', 'Douglas',\n",
       "       'Batty', 'GL', 'YPA', \"Tiernan's\", 'J', 'Rodney', 'Joseph',\n",
       "       'Harrington', 'Galldon', 'Chambers', 'Peter', 'Grantham',\n",
       "       'hockingstuart/Advantage', 'Garvey', \"O'Donoghues\", 'Hamilton',\n",
       "       'Bekdon', 'Ross', 'Weast', 'Century', 'Kelly', 'Property',\n",
       "       \"Private/Tiernan's\", 'Australian', 'Bustin', \"Abercromby's\",\n",
       "       'Castran', 'iTRAK', 'Del', 'Nicholson', 'JMRE', 'ASL', 'Re', 'RE',\n",
       "       'Ham', 'Darren', 'Vic', 'Scott', 'Pride', 'Morleys', 'Wilson',\n",
       "       'Buxton/Advantage', 'Whiting', 'Pagan', 'Joe', 'Red', 'Caine',\n",
       "       'Naison', 'Sweeney/Advantage', 'Nguyen', 'Domain', 'Eview',\n",
       "       'Jason', 'Professionals', \"D'Aprano\", 'Charlton', 'CASTRAN',\n",
       "       'Wood', 'Haughton', 'William', 'Coventry', 'Buckingham',\n",
       "       'Nardella', 'Reach', 'Walsh', 'Karen', 'LJ', 'Direct',\n",
       "       'Fletchers/Fletchers', 'Besser', 'Johnston', 'Redina', 'Clairmont',\n",
       "       'Changing', 'Lucas', 'Elite', 'Buxton/Find', 'W.B.', 'Leased',\n",
       "       'Win', 'New', 'Geoff', 'hockingstuart/Barry', 'Blue', 'Steveway',\n",
       "       'Dixon', 'Parkinson', 'VICPROP', 'Meadows', 'Allan', 'S&L',\n",
       "       'Crane', 'Calder', 'Homes', 'Zahn', 'Mason', 'David', 'Luxe',\n",
       "       'Prowse', 'Ken', 'iOne', 'hockingstuart/Village', 'Iconek',\n",
       "       'Luxton', 'Hooper', 'Oak', 'White', 'Weston', 'Reed', 'Oriental',\n",
       "       'Craig', 'Max', 'Rosin', 'Steller', 'Real', 'Hall', 'Icon',\n",
       "       'buyMyplace', 'Collings', 'WHITEFOX', 'Metro', '@Realty',\n",
       "       'Hoskins', 'Gardiner', 'McLennan', 'Triwest', 'PRDNationwide',\n",
       "       'Only', 'Leyton', 'Obrien', 'Maitland', 'Reliance', 'Rounds',\n",
       "       'Millership', 'iSell', 'L', 'Ash', 'Jim', 'Ace', 'Flannagan',\n",
       "       'JRW', 'Carter', 'M.J', 'iProperty', 'Hayeswinckle', 'Schroeder',\n",
       "       'iHomes', 'VICProp', 'REMAX', 'Space', 'Victory', 'Aumeca',\n",
       "       'Smart', 'Mindacom', 'Ryder', 'Asset', 'LLC', 'Sell', 'Mitchell',\n",
       "       'U', 'Nicholas', 'Keatings', 'Aquire', 'Conquest', 'Rombotis',\n",
       "       'Prime', 'Donovan', 'Community', 'Free', 'Veitch', 'Peake',\n",
       "       'Ristic', 'Upper', 'Daniel', 'Xynergy', 'VicHomes', 'Westside',\n",
       "       'Leeburn', 'TRUE', 'Leading', 'Bullen', 'Better', 'Langwell',\n",
       "       'Kaye', 'Nicholls', 'Bowman', 'Boutique', 'Just', 'Home',\n",
       "       'McNaughton', 'Black', 'The', 'Open', 'Darras', 'Roger', 'Follett',\n",
       "       'Le', 'McEwing', 'Sandhurst', 'Avion', 'Boran',\n",
       "       'hockingstuart/hockingstuart', 'Area', 'MJ', 'Eric', 'SN', 'P',\n",
       "       'PRD', 'Bombay', 'Quinta', 'T', 'Rexhepi', 'Point', 'LJH', 'Munn',\n",
       "       'Justin', 'Blackbird', 'Sweeney/Burnham', 'H', 'Branon', 'Alex',\n",
       "       'Benchmark', 'Gellibrand', 'hockingstuart/Harcourts', 'Charter',\n",
       "       'Surreal', 'Upside', 'OBrien', 'Meallin', 'JY', 'Mark', 'For',\n",
       "       'Leaders', 'Shape', 'McGrath/Langwell', 'Benlor', 'Burns',\n",
       "       'K.R.Peters', 'Buxton/Buxton', 'Buxton/Marshall', 'CarlinSmith',\n",
       "       'hockingstuart/Sweeney', 'People', 'hockingstuart/Biggin', 'Mega',\n",
       "       'Skad', 'Wyndham', 'Create', 'Janice', 'G&H', 'Commercial', 'PSP',\n",
       "       'Unity', 'hockingstuart/Marshall', 'McGrath/First', 'Spencer',\n",
       "       'Sanctuary'], dtype=object)"
      ]
     },
     "execution_count": 14,
     "metadata": {},
     "output_type": "execute_result"
    }
   ],
   "source": [
    "df['SellerG'].unique()"
   ]
  },
  {
   "cell_type": "code",
   "execution_count": 15,
   "id": "b0b64e43",
   "metadata": {},
   "outputs": [
    {
     "data": {
      "text/plain": [
       "array(['Yarra City Council', 'Moonee Valley City Council',\n",
       "       'Port Phillip City Council', 'Darebin City Council',\n",
       "       'Hobsons Bay City Council', 'Stonnington City Council',\n",
       "       'Boroondara City Council', 'Monash City Council',\n",
       "       'Glen Eira City Council', 'Whitehorse City Council',\n",
       "       'Maribyrnong City Council', 'Bayside City Council',\n",
       "       'Moreland City Council', 'Manningham City Council',\n",
       "       'Melbourne City Council', 'Banyule City Council',\n",
       "       'Brimbank City Council', 'Kingston City Council',\n",
       "       'Hume City Council', 'Knox City Council', 'Maroondah City Council',\n",
       "       'Casey City Council', 'Melton City Council',\n",
       "       'Greater Dandenong City Council', 'Nillumbik Shire Council',\n",
       "       'Whittlesea City Council', 'Frankston City Council',\n",
       "       'Macedon Ranges Shire Council', 'Yarra Ranges Shire Council',\n",
       "       'Wyndham City Council', 'Cardinia Shire Council',\n",
       "       'Moorabool Shire Council', 'Mitchell Shire Council'], dtype=object)"
      ]
     },
     "execution_count": 15,
     "metadata": {},
     "output_type": "execute_result"
    }
   ],
   "source": [
    "df['CouncilArea'].unique()"
   ]
  },
  {
   "cell_type": "code",
   "execution_count": 16,
   "id": "cac1250f",
   "metadata": {},
   "outputs": [
    {
     "data": {
      "text/plain": [
       "array(['Northern Metropolitan', 'Western Metropolitan',\n",
       "       'Southern Metropolitan', 'Eastern Metropolitan',\n",
       "       'South-Eastern Metropolitan', 'Eastern Victoria',\n",
       "       'Northern Victoria', 'Western Victoria'], dtype=object)"
      ]
     },
     "execution_count": 16,
     "metadata": {},
     "output_type": "execute_result"
    }
   ],
   "source": [
    "df['Regionname'].unique()"
   ]
  },
  {
   "cell_type": "markdown",
   "id": "c8f4982e",
   "metadata": {},
   "source": [
    "### 9) Create a dummy data for categorical data"
   ]
  },
  {
   "cell_type": "code",
   "execution_count": 17,
   "id": "d85600b4",
   "metadata": {},
   "outputs": [],
   "source": [
    "df = pd.get_dummies(df, drop_first=True)"
   ]
  },
  {
   "cell_type": "code",
   "execution_count": 18,
   "id": "d8c489f6",
   "metadata": {},
   "outputs": [
    {
     "data": {
      "text/plain": [
       "(27244, 745)"
      ]
     },
     "execution_count": 18,
     "metadata": {},
     "output_type": "execute_result"
    }
   ],
   "source": [
    "df.shape"
   ]
  },
  {
   "cell_type": "code",
   "execution_count": 19,
   "id": "eb9989ef",
   "metadata": {},
   "outputs": [
    {
     "data": {
      "text/html": [
       "<div>\n",
       "<style scoped>\n",
       "    .dataframe tbody tr th:only-of-type {\n",
       "        vertical-align: middle;\n",
       "    }\n",
       "\n",
       "    .dataframe tbody tr th {\n",
       "        vertical-align: top;\n",
       "    }\n",
       "\n",
       "    .dataframe thead th {\n",
       "        text-align: right;\n",
       "    }\n",
       "</style>\n",
       "<table border=\"1\" class=\"dataframe\">\n",
       "  <thead>\n",
       "    <tr style=\"text-align: right;\">\n",
       "      <th></th>\n",
       "      <th>Rooms</th>\n",
       "      <th>Price</th>\n",
       "      <th>Distance</th>\n",
       "      <th>Bedroom2</th>\n",
       "      <th>Bathroom</th>\n",
       "      <th>Car</th>\n",
       "      <th>Landsize</th>\n",
       "      <th>BuildingArea</th>\n",
       "      <th>Propertycount</th>\n",
       "      <th>Suburb_Aberfeldie</th>\n",
       "      <th>...</th>\n",
       "      <th>CouncilArea_Wyndham City Council</th>\n",
       "      <th>CouncilArea_Yarra City Council</th>\n",
       "      <th>CouncilArea_Yarra Ranges Shire Council</th>\n",
       "      <th>Regionname_Eastern Victoria</th>\n",
       "      <th>Regionname_Northern Metropolitan</th>\n",
       "      <th>Regionname_Northern Victoria</th>\n",
       "      <th>Regionname_South-Eastern Metropolitan</th>\n",
       "      <th>Regionname_Southern Metropolitan</th>\n",
       "      <th>Regionname_Western Metropolitan</th>\n",
       "      <th>Regionname_Western Victoria</th>\n",
       "    </tr>\n",
       "  </thead>\n",
       "  <tbody>\n",
       "    <tr>\n",
       "      <th>1</th>\n",
       "      <td>2</td>\n",
       "      <td>1480000.0</td>\n",
       "      <td>2.5</td>\n",
       "      <td>2.0</td>\n",
       "      <td>1.0</td>\n",
       "      <td>1.0</td>\n",
       "      <td>202.0</td>\n",
       "      <td>160.2564</td>\n",
       "      <td>4019.0</td>\n",
       "      <td>0</td>\n",
       "      <td>...</td>\n",
       "      <td>0</td>\n",
       "      <td>1</td>\n",
       "      <td>0</td>\n",
       "      <td>0</td>\n",
       "      <td>1</td>\n",
       "      <td>0</td>\n",
       "      <td>0</td>\n",
       "      <td>0</td>\n",
       "      <td>0</td>\n",
       "      <td>0</td>\n",
       "    </tr>\n",
       "    <tr>\n",
       "      <th>2</th>\n",
       "      <td>2</td>\n",
       "      <td>1035000.0</td>\n",
       "      <td>2.5</td>\n",
       "      <td>2.0</td>\n",
       "      <td>1.0</td>\n",
       "      <td>0.0</td>\n",
       "      <td>156.0</td>\n",
       "      <td>79.0000</td>\n",
       "      <td>4019.0</td>\n",
       "      <td>0</td>\n",
       "      <td>...</td>\n",
       "      <td>0</td>\n",
       "      <td>1</td>\n",
       "      <td>0</td>\n",
       "      <td>0</td>\n",
       "      <td>1</td>\n",
       "      <td>0</td>\n",
       "      <td>0</td>\n",
       "      <td>0</td>\n",
       "      <td>0</td>\n",
       "      <td>0</td>\n",
       "    </tr>\n",
       "    <tr>\n",
       "      <th>4</th>\n",
       "      <td>3</td>\n",
       "      <td>1465000.0</td>\n",
       "      <td>2.5</td>\n",
       "      <td>3.0</td>\n",
       "      <td>2.0</td>\n",
       "      <td>0.0</td>\n",
       "      <td>134.0</td>\n",
       "      <td>150.0000</td>\n",
       "      <td>4019.0</td>\n",
       "      <td>0</td>\n",
       "      <td>...</td>\n",
       "      <td>0</td>\n",
       "      <td>1</td>\n",
       "      <td>0</td>\n",
       "      <td>0</td>\n",
       "      <td>1</td>\n",
       "      <td>0</td>\n",
       "      <td>0</td>\n",
       "      <td>0</td>\n",
       "      <td>0</td>\n",
       "      <td>0</td>\n",
       "    </tr>\n",
       "    <tr>\n",
       "      <th>5</th>\n",
       "      <td>3</td>\n",
       "      <td>850000.0</td>\n",
       "      <td>2.5</td>\n",
       "      <td>3.0</td>\n",
       "      <td>2.0</td>\n",
       "      <td>1.0</td>\n",
       "      <td>94.0</td>\n",
       "      <td>160.2564</td>\n",
       "      <td>4019.0</td>\n",
       "      <td>0</td>\n",
       "      <td>...</td>\n",
       "      <td>0</td>\n",
       "      <td>1</td>\n",
       "      <td>0</td>\n",
       "      <td>0</td>\n",
       "      <td>1</td>\n",
       "      <td>0</td>\n",
       "      <td>0</td>\n",
       "      <td>0</td>\n",
       "      <td>0</td>\n",
       "      <td>0</td>\n",
       "    </tr>\n",
       "    <tr>\n",
       "      <th>6</th>\n",
       "      <td>4</td>\n",
       "      <td>1600000.0</td>\n",
       "      <td>2.5</td>\n",
       "      <td>3.0</td>\n",
       "      <td>1.0</td>\n",
       "      <td>2.0</td>\n",
       "      <td>120.0</td>\n",
       "      <td>142.0000</td>\n",
       "      <td>4019.0</td>\n",
       "      <td>0</td>\n",
       "      <td>...</td>\n",
       "      <td>0</td>\n",
       "      <td>1</td>\n",
       "      <td>0</td>\n",
       "      <td>0</td>\n",
       "      <td>1</td>\n",
       "      <td>0</td>\n",
       "      <td>0</td>\n",
       "      <td>0</td>\n",
       "      <td>0</td>\n",
       "      <td>0</td>\n",
       "    </tr>\n",
       "  </tbody>\n",
       "</table>\n",
       "<p>5 rows × 745 columns</p>\n",
       "</div>"
      ],
      "text/plain": [
       "   Rooms      Price  Distance  Bedroom2  Bathroom  Car  Landsize  \\\n",
       "1      2  1480000.0       2.5       2.0       1.0  1.0     202.0   \n",
       "2      2  1035000.0       2.5       2.0       1.0  0.0     156.0   \n",
       "4      3  1465000.0       2.5       3.0       2.0  0.0     134.0   \n",
       "5      3   850000.0       2.5       3.0       2.0  1.0      94.0   \n",
       "6      4  1600000.0       2.5       3.0       1.0  2.0     120.0   \n",
       "\n",
       "   BuildingArea  Propertycount  Suburb_Aberfeldie  ...  \\\n",
       "1      160.2564         4019.0                  0  ...   \n",
       "2       79.0000         4019.0                  0  ...   \n",
       "4      150.0000         4019.0                  0  ...   \n",
       "5      160.2564         4019.0                  0  ...   \n",
       "6      142.0000         4019.0                  0  ...   \n",
       "\n",
       "   CouncilArea_Wyndham City Council  CouncilArea_Yarra City Council  \\\n",
       "1                                 0                               1   \n",
       "2                                 0                               1   \n",
       "4                                 0                               1   \n",
       "5                                 0                               1   \n",
       "6                                 0                               1   \n",
       "\n",
       "   CouncilArea_Yarra Ranges Shire Council  Regionname_Eastern Victoria  \\\n",
       "1                                       0                            0   \n",
       "2                                       0                            0   \n",
       "4                                       0                            0   \n",
       "5                                       0                            0   \n",
       "6                                       0                            0   \n",
       "\n",
       "   Regionname_Northern Metropolitan  Regionname_Northern Victoria  \\\n",
       "1                                 1                             0   \n",
       "2                                 1                             0   \n",
       "4                                 1                             0   \n",
       "5                                 1                             0   \n",
       "6                                 1                             0   \n",
       "\n",
       "   Regionname_South-Eastern Metropolitan  Regionname_Southern Metropolitan  \\\n",
       "1                                      0                                 0   \n",
       "2                                      0                                 0   \n",
       "4                                      0                                 0   \n",
       "5                                      0                                 0   \n",
       "6                                      0                                 0   \n",
       "\n",
       "   Regionname_Western Metropolitan  Regionname_Western Victoria  \n",
       "1                                0                            0  \n",
       "2                                0                            0  \n",
       "4                                0                            0  \n",
       "5                                0                            0  \n",
       "6                                0                            0  \n",
       "\n",
       "[5 rows x 745 columns]"
      ]
     },
     "execution_count": 19,
     "metadata": {},
     "output_type": "execute_result"
    }
   ],
   "source": [
    "df.head()"
   ]
  },
  {
   "cell_type": "markdown",
   "id": "cb4cecc8",
   "metadata": {},
   "source": [
    "## Part 2 - Working with Model"
   ]
  },
  {
   "cell_type": "markdown",
   "id": "32fb8464",
   "metadata": {},
   "source": [
    "### 1) Create the target data and feature data where target data is price"
   ]
  },
  {
   "cell_type": "code",
   "execution_count": 20,
   "id": "5b65c2bc",
   "metadata": {},
   "outputs": [
    {
     "data": {
      "text/html": [
       "<div>\n",
       "<style scoped>\n",
       "    .dataframe tbody tr th:only-of-type {\n",
       "        vertical-align: middle;\n",
       "    }\n",
       "\n",
       "    .dataframe tbody tr th {\n",
       "        vertical-align: top;\n",
       "    }\n",
       "\n",
       "    .dataframe thead th {\n",
       "        text-align: right;\n",
       "    }\n",
       "</style>\n",
       "<table border=\"1\" class=\"dataframe\">\n",
       "  <thead>\n",
       "    <tr style=\"text-align: right;\">\n",
       "      <th></th>\n",
       "      <th>Rooms</th>\n",
       "      <th>Distance</th>\n",
       "      <th>Bedroom2</th>\n",
       "      <th>Bathroom</th>\n",
       "      <th>Car</th>\n",
       "      <th>Landsize</th>\n",
       "      <th>BuildingArea</th>\n",
       "      <th>Propertycount</th>\n",
       "      <th>Suburb_Aberfeldie</th>\n",
       "      <th>Suburb_Airport West</th>\n",
       "      <th>...</th>\n",
       "      <th>CouncilArea_Wyndham City Council</th>\n",
       "      <th>CouncilArea_Yarra City Council</th>\n",
       "      <th>CouncilArea_Yarra Ranges Shire Council</th>\n",
       "      <th>Regionname_Eastern Victoria</th>\n",
       "      <th>Regionname_Northern Metropolitan</th>\n",
       "      <th>Regionname_Northern Victoria</th>\n",
       "      <th>Regionname_South-Eastern Metropolitan</th>\n",
       "      <th>Regionname_Southern Metropolitan</th>\n",
       "      <th>Regionname_Western Metropolitan</th>\n",
       "      <th>Regionname_Western Victoria</th>\n",
       "    </tr>\n",
       "  </thead>\n",
       "  <tbody>\n",
       "    <tr>\n",
       "      <th>1</th>\n",
       "      <td>2</td>\n",
       "      <td>2.5</td>\n",
       "      <td>2.0</td>\n",
       "      <td>1.0</td>\n",
       "      <td>1.0</td>\n",
       "      <td>202.000000</td>\n",
       "      <td>160.2564</td>\n",
       "      <td>4019.0</td>\n",
       "      <td>0</td>\n",
       "      <td>0</td>\n",
       "      <td>...</td>\n",
       "      <td>0</td>\n",
       "      <td>1</td>\n",
       "      <td>0</td>\n",
       "      <td>0</td>\n",
       "      <td>1</td>\n",
       "      <td>0</td>\n",
       "      <td>0</td>\n",
       "      <td>0</td>\n",
       "      <td>0</td>\n",
       "      <td>0</td>\n",
       "    </tr>\n",
       "    <tr>\n",
       "      <th>2</th>\n",
       "      <td>2</td>\n",
       "      <td>2.5</td>\n",
       "      <td>2.0</td>\n",
       "      <td>1.0</td>\n",
       "      <td>0.0</td>\n",
       "      <td>156.000000</td>\n",
       "      <td>79.0000</td>\n",
       "      <td>4019.0</td>\n",
       "      <td>0</td>\n",
       "      <td>0</td>\n",
       "      <td>...</td>\n",
       "      <td>0</td>\n",
       "      <td>1</td>\n",
       "      <td>0</td>\n",
       "      <td>0</td>\n",
       "      <td>1</td>\n",
       "      <td>0</td>\n",
       "      <td>0</td>\n",
       "      <td>0</td>\n",
       "      <td>0</td>\n",
       "      <td>0</td>\n",
       "    </tr>\n",
       "    <tr>\n",
       "      <th>4</th>\n",
       "      <td>3</td>\n",
       "      <td>2.5</td>\n",
       "      <td>3.0</td>\n",
       "      <td>2.0</td>\n",
       "      <td>0.0</td>\n",
       "      <td>134.000000</td>\n",
       "      <td>150.0000</td>\n",
       "      <td>4019.0</td>\n",
       "      <td>0</td>\n",
       "      <td>0</td>\n",
       "      <td>...</td>\n",
       "      <td>0</td>\n",
       "      <td>1</td>\n",
       "      <td>0</td>\n",
       "      <td>0</td>\n",
       "      <td>1</td>\n",
       "      <td>0</td>\n",
       "      <td>0</td>\n",
       "      <td>0</td>\n",
       "      <td>0</td>\n",
       "      <td>0</td>\n",
       "    </tr>\n",
       "    <tr>\n",
       "      <th>5</th>\n",
       "      <td>3</td>\n",
       "      <td>2.5</td>\n",
       "      <td>3.0</td>\n",
       "      <td>2.0</td>\n",
       "      <td>1.0</td>\n",
       "      <td>94.000000</td>\n",
       "      <td>160.2564</td>\n",
       "      <td>4019.0</td>\n",
       "      <td>0</td>\n",
       "      <td>0</td>\n",
       "      <td>...</td>\n",
       "      <td>0</td>\n",
       "      <td>1</td>\n",
       "      <td>0</td>\n",
       "      <td>0</td>\n",
       "      <td>1</td>\n",
       "      <td>0</td>\n",
       "      <td>0</td>\n",
       "      <td>0</td>\n",
       "      <td>0</td>\n",
       "      <td>0</td>\n",
       "    </tr>\n",
       "    <tr>\n",
       "      <th>6</th>\n",
       "      <td>4</td>\n",
       "      <td>2.5</td>\n",
       "      <td>3.0</td>\n",
       "      <td>1.0</td>\n",
       "      <td>2.0</td>\n",
       "      <td>120.000000</td>\n",
       "      <td>142.0000</td>\n",
       "      <td>4019.0</td>\n",
       "      <td>0</td>\n",
       "      <td>0</td>\n",
       "      <td>...</td>\n",
       "      <td>0</td>\n",
       "      <td>1</td>\n",
       "      <td>0</td>\n",
       "      <td>0</td>\n",
       "      <td>1</td>\n",
       "      <td>0</td>\n",
       "      <td>0</td>\n",
       "      <td>0</td>\n",
       "      <td>0</td>\n",
       "      <td>0</td>\n",
       "    </tr>\n",
       "    <tr>\n",
       "      <th>...</th>\n",
       "      <td>...</td>\n",
       "      <td>...</td>\n",
       "      <td>...</td>\n",
       "      <td>...</td>\n",
       "      <td>...</td>\n",
       "      <td>...</td>\n",
       "      <td>...</td>\n",
       "      <td>...</td>\n",
       "      <td>...</td>\n",
       "      <td>...</td>\n",
       "      <td>...</td>\n",
       "      <td>...</td>\n",
       "      <td>...</td>\n",
       "      <td>...</td>\n",
       "      <td>...</td>\n",
       "      <td>...</td>\n",
       "      <td>...</td>\n",
       "      <td>...</td>\n",
       "      <td>...</td>\n",
       "      <td>...</td>\n",
       "      <td>...</td>\n",
       "    </tr>\n",
       "    <tr>\n",
       "      <th>34852</th>\n",
       "      <td>4</td>\n",
       "      <td>6.3</td>\n",
       "      <td>4.0</td>\n",
       "      <td>1.0</td>\n",
       "      <td>3.0</td>\n",
       "      <td>593.000000</td>\n",
       "      <td>160.2564</td>\n",
       "      <td>6543.0</td>\n",
       "      <td>0</td>\n",
       "      <td>0</td>\n",
       "      <td>...</td>\n",
       "      <td>0</td>\n",
       "      <td>0</td>\n",
       "      <td>0</td>\n",
       "      <td>0</td>\n",
       "      <td>0</td>\n",
       "      <td>0</td>\n",
       "      <td>0</td>\n",
       "      <td>0</td>\n",
       "      <td>1</td>\n",
       "      <td>0</td>\n",
       "    </tr>\n",
       "    <tr>\n",
       "      <th>34853</th>\n",
       "      <td>2</td>\n",
       "      <td>6.3</td>\n",
       "      <td>2.0</td>\n",
       "      <td>2.0</td>\n",
       "      <td>1.0</td>\n",
       "      <td>98.000000</td>\n",
       "      <td>104.0000</td>\n",
       "      <td>6543.0</td>\n",
       "      <td>0</td>\n",
       "      <td>0</td>\n",
       "      <td>...</td>\n",
       "      <td>0</td>\n",
       "      <td>0</td>\n",
       "      <td>0</td>\n",
       "      <td>0</td>\n",
       "      <td>0</td>\n",
       "      <td>0</td>\n",
       "      <td>0</td>\n",
       "      <td>0</td>\n",
       "      <td>1</td>\n",
       "      <td>0</td>\n",
       "    </tr>\n",
       "    <tr>\n",
       "      <th>34854</th>\n",
       "      <td>2</td>\n",
       "      <td>6.3</td>\n",
       "      <td>2.0</td>\n",
       "      <td>1.0</td>\n",
       "      <td>2.0</td>\n",
       "      <td>220.000000</td>\n",
       "      <td>120.0000</td>\n",
       "      <td>6543.0</td>\n",
       "      <td>0</td>\n",
       "      <td>0</td>\n",
       "      <td>...</td>\n",
       "      <td>0</td>\n",
       "      <td>0</td>\n",
       "      <td>0</td>\n",
       "      <td>0</td>\n",
       "      <td>0</td>\n",
       "      <td>0</td>\n",
       "      <td>0</td>\n",
       "      <td>0</td>\n",
       "      <td>1</td>\n",
       "      <td>0</td>\n",
       "    </tr>\n",
       "    <tr>\n",
       "      <th>34855</th>\n",
       "      <td>3</td>\n",
       "      <td>6.3</td>\n",
       "      <td>0.0</td>\n",
       "      <td>0.0</td>\n",
       "      <td>0.0</td>\n",
       "      <td>593.598993</td>\n",
       "      <td>160.2564</td>\n",
       "      <td>6543.0</td>\n",
       "      <td>0</td>\n",
       "      <td>0</td>\n",
       "      <td>...</td>\n",
       "      <td>0</td>\n",
       "      <td>0</td>\n",
       "      <td>0</td>\n",
       "      <td>0</td>\n",
       "      <td>0</td>\n",
       "      <td>0</td>\n",
       "      <td>0</td>\n",
       "      <td>0</td>\n",
       "      <td>1</td>\n",
       "      <td>0</td>\n",
       "    </tr>\n",
       "    <tr>\n",
       "      <th>34856</th>\n",
       "      <td>2</td>\n",
       "      <td>6.3</td>\n",
       "      <td>2.0</td>\n",
       "      <td>1.0</td>\n",
       "      <td>0.0</td>\n",
       "      <td>250.000000</td>\n",
       "      <td>103.0000</td>\n",
       "      <td>6543.0</td>\n",
       "      <td>0</td>\n",
       "      <td>0</td>\n",
       "      <td>...</td>\n",
       "      <td>0</td>\n",
       "      <td>0</td>\n",
       "      <td>0</td>\n",
       "      <td>0</td>\n",
       "      <td>0</td>\n",
       "      <td>0</td>\n",
       "      <td>0</td>\n",
       "      <td>0</td>\n",
       "      <td>1</td>\n",
       "      <td>0</td>\n",
       "    </tr>\n",
       "  </tbody>\n",
       "</table>\n",
       "<p>27244 rows × 744 columns</p>\n",
       "</div>"
      ],
      "text/plain": [
       "       Rooms  Distance  Bedroom2  Bathroom  Car    Landsize  BuildingArea  \\\n",
       "1          2       2.5       2.0       1.0  1.0  202.000000      160.2564   \n",
       "2          2       2.5       2.0       1.0  0.0  156.000000       79.0000   \n",
       "4          3       2.5       3.0       2.0  0.0  134.000000      150.0000   \n",
       "5          3       2.5       3.0       2.0  1.0   94.000000      160.2564   \n",
       "6          4       2.5       3.0       1.0  2.0  120.000000      142.0000   \n",
       "...      ...       ...       ...       ...  ...         ...           ...   \n",
       "34852      4       6.3       4.0       1.0  3.0  593.000000      160.2564   \n",
       "34853      2       6.3       2.0       2.0  1.0   98.000000      104.0000   \n",
       "34854      2       6.3       2.0       1.0  2.0  220.000000      120.0000   \n",
       "34855      3       6.3       0.0       0.0  0.0  593.598993      160.2564   \n",
       "34856      2       6.3       2.0       1.0  0.0  250.000000      103.0000   \n",
       "\n",
       "       Propertycount  Suburb_Aberfeldie  Suburb_Airport West  ...  \\\n",
       "1             4019.0                  0                    0  ...   \n",
       "2             4019.0                  0                    0  ...   \n",
       "4             4019.0                  0                    0  ...   \n",
       "5             4019.0                  0                    0  ...   \n",
       "6             4019.0                  0                    0  ...   \n",
       "...              ...                ...                  ...  ...   \n",
       "34852         6543.0                  0                    0  ...   \n",
       "34853         6543.0                  0                    0  ...   \n",
       "34854         6543.0                  0                    0  ...   \n",
       "34855         6543.0                  0                    0  ...   \n",
       "34856         6543.0                  0                    0  ...   \n",
       "\n",
       "       CouncilArea_Wyndham City Council  CouncilArea_Yarra City Council  \\\n",
       "1                                     0                               1   \n",
       "2                                     0                               1   \n",
       "4                                     0                               1   \n",
       "5                                     0                               1   \n",
       "6                                     0                               1   \n",
       "...                                 ...                             ...   \n",
       "34852                                 0                               0   \n",
       "34853                                 0                               0   \n",
       "34854                                 0                               0   \n",
       "34855                                 0                               0   \n",
       "34856                                 0                               0   \n",
       "\n",
       "       CouncilArea_Yarra Ranges Shire Council  Regionname_Eastern Victoria  \\\n",
       "1                                           0                            0   \n",
       "2                                           0                            0   \n",
       "4                                           0                            0   \n",
       "5                                           0                            0   \n",
       "6                                           0                            0   \n",
       "...                                       ...                          ...   \n",
       "34852                                       0                            0   \n",
       "34853                                       0                            0   \n",
       "34854                                       0                            0   \n",
       "34855                                       0                            0   \n",
       "34856                                       0                            0   \n",
       "\n",
       "       Regionname_Northern Metropolitan  Regionname_Northern Victoria  \\\n",
       "1                                     1                             0   \n",
       "2                                     1                             0   \n",
       "4                                     1                             0   \n",
       "5                                     1                             0   \n",
       "6                                     1                             0   \n",
       "...                                 ...                           ...   \n",
       "34852                                 0                             0   \n",
       "34853                                 0                             0   \n",
       "34854                                 0                             0   \n",
       "34855                                 0                             0   \n",
       "34856                                 0                             0   \n",
       "\n",
       "       Regionname_South-Eastern Metropolitan  \\\n",
       "1                                          0   \n",
       "2                                          0   \n",
       "4                                          0   \n",
       "5                                          0   \n",
       "6                                          0   \n",
       "...                                      ...   \n",
       "34852                                      0   \n",
       "34853                                      0   \n",
       "34854                                      0   \n",
       "34855                                      0   \n",
       "34856                                      0   \n",
       "\n",
       "       Regionname_Southern Metropolitan  Regionname_Western Metropolitan  \\\n",
       "1                                     0                                0   \n",
       "2                                     0                                0   \n",
       "4                                     0                                0   \n",
       "5                                     0                                0   \n",
       "6                                     0                                0   \n",
       "...                                 ...                              ...   \n",
       "34852                                 0                                1   \n",
       "34853                                 0                                1   \n",
       "34854                                 0                                1   \n",
       "34855                                 0                                1   \n",
       "34856                                 0                                1   \n",
       "\n",
       "       Regionname_Western Victoria  \n",
       "1                                0  \n",
       "2                                0  \n",
       "4                                0  \n",
       "5                                0  \n",
       "6                                0  \n",
       "...                            ...  \n",
       "34852                            0  \n",
       "34853                            0  \n",
       "34854                            0  \n",
       "34855                            0  \n",
       "34856                            0  \n",
       "\n",
       "[27244 rows x 744 columns]"
      ]
     },
     "execution_count": 20,
     "metadata": {},
     "output_type": "execute_result"
    }
   ],
   "source": [
    "x = df.drop('Price', axis='columns')\n",
    "x"
   ]
  },
  {
   "cell_type": "code",
   "execution_count": 21,
   "id": "664f656d",
   "metadata": {},
   "outputs": [
    {
     "data": {
      "text/html": [
       "<div>\n",
       "<style scoped>\n",
       "    .dataframe tbody tr th:only-of-type {\n",
       "        vertical-align: middle;\n",
       "    }\n",
       "\n",
       "    .dataframe tbody tr th {\n",
       "        vertical-align: top;\n",
       "    }\n",
       "\n",
       "    .dataframe thead th {\n",
       "        text-align: right;\n",
       "    }\n",
       "</style>\n",
       "<table border=\"1\" class=\"dataframe\">\n",
       "  <thead>\n",
       "    <tr style=\"text-align: right;\">\n",
       "      <th></th>\n",
       "      <th>Price</th>\n",
       "    </tr>\n",
       "  </thead>\n",
       "  <tbody>\n",
       "    <tr>\n",
       "      <th>1</th>\n",
       "      <td>1480000.0</td>\n",
       "    </tr>\n",
       "    <tr>\n",
       "      <th>2</th>\n",
       "      <td>1035000.0</td>\n",
       "    </tr>\n",
       "    <tr>\n",
       "      <th>4</th>\n",
       "      <td>1465000.0</td>\n",
       "    </tr>\n",
       "    <tr>\n",
       "      <th>5</th>\n",
       "      <td>850000.0</td>\n",
       "    </tr>\n",
       "    <tr>\n",
       "      <th>6</th>\n",
       "      <td>1600000.0</td>\n",
       "    </tr>\n",
       "    <tr>\n",
       "      <th>...</th>\n",
       "      <td>...</td>\n",
       "    </tr>\n",
       "    <tr>\n",
       "      <th>34852</th>\n",
       "      <td>1480000.0</td>\n",
       "    </tr>\n",
       "    <tr>\n",
       "      <th>34853</th>\n",
       "      <td>888000.0</td>\n",
       "    </tr>\n",
       "    <tr>\n",
       "      <th>34854</th>\n",
       "      <td>705000.0</td>\n",
       "    </tr>\n",
       "    <tr>\n",
       "      <th>34855</th>\n",
       "      <td>1140000.0</td>\n",
       "    </tr>\n",
       "    <tr>\n",
       "      <th>34856</th>\n",
       "      <td>1020000.0</td>\n",
       "    </tr>\n",
       "  </tbody>\n",
       "</table>\n",
       "<p>27244 rows × 1 columns</p>\n",
       "</div>"
      ],
      "text/plain": [
       "           Price\n",
       "1      1480000.0\n",
       "2      1035000.0\n",
       "4      1465000.0\n",
       "5       850000.0\n",
       "6      1600000.0\n",
       "...          ...\n",
       "34852  1480000.0\n",
       "34853   888000.0\n",
       "34854   705000.0\n",
       "34855  1140000.0\n",
       "34856  1020000.0\n",
       "\n",
       "[27244 rows x 1 columns]"
      ]
     },
     "execution_count": 21,
     "metadata": {},
     "output_type": "execute_result"
    }
   ],
   "source": [
    "y = df[['Price']]\n",
    "y"
   ]
  },
  {
   "cell_type": "markdown",
   "id": "82d66494",
   "metadata": {},
   "source": [
    "### Split Data into Train and Test"
   ]
  },
  {
   "cell_type": "code",
   "execution_count": 22,
   "id": "e5ab29df",
   "metadata": {},
   "outputs": [],
   "source": [
    "x_train,x_test,y_train,y_test = train_test_split(x,y,test_size=0.2,random_state=1)"
   ]
  },
  {
   "cell_type": "code",
   "execution_count": 23,
   "id": "2e30b021",
   "metadata": {},
   "outputs": [
    {
     "data": {
      "text/plain": [
       "(21795, 744)"
      ]
     },
     "execution_count": 23,
     "metadata": {},
     "output_type": "execute_result"
    }
   ],
   "source": [
    "x_train.shape"
   ]
  },
  {
   "cell_type": "code",
   "execution_count": 24,
   "id": "886e3b23",
   "metadata": {},
   "outputs": [
    {
     "data": {
      "text/plain": [
       "(5449, 744)"
      ]
     },
     "execution_count": 24,
     "metadata": {},
     "output_type": "execute_result"
    }
   ],
   "source": [
    "x_test.shape"
   ]
  },
  {
   "cell_type": "markdown",
   "id": "225160fc",
   "metadata": {},
   "source": [
    "### 2) Create a linear regression model for Target and feature data"
   ]
  },
  {
   "cell_type": "code",
   "execution_count": 25,
   "id": "8cbe44eb",
   "metadata": {},
   "outputs": [],
   "source": [
    "regression_model = LinearRegression()"
   ]
  },
  {
   "cell_type": "code",
   "execution_count": 26,
   "id": "f52052e9",
   "metadata": {},
   "outputs": [
    {
     "data": {
      "text/plain": [
       "LinearRegression()"
      ]
     },
     "execution_count": 26,
     "metadata": {},
     "output_type": "execute_result"
    }
   ],
   "source": [
    "regression_model.fit(x_train,y_train)"
   ]
  },
  {
   "cell_type": "code",
   "execution_count": 27,
   "id": "a2bbad3f",
   "metadata": {},
   "outputs": [
    {
     "data": {
      "text/plain": [
       "array([[671023.34162493],\n",
       "       [350200.81190479],\n",
       "       [818729.20113597],\n",
       "       ...,\n",
       "       [314719.59178431],\n",
       "       [807674.66674801],\n",
       "       [882501.38272193]])"
      ]
     },
     "execution_count": 27,
     "metadata": {},
     "output_type": "execute_result"
    }
   ],
   "source": [
    "price_predict = regression_model.predict(x_test)\n",
    "price_predict"
   ]
  },
  {
   "cell_type": "markdown",
   "id": "d65ad3fb",
   "metadata": {},
   "source": [
    "### 3) Check if the model is overfitting or underfitting or it is accurate"
   ]
  },
  {
   "cell_type": "code",
   "execution_count": 28,
   "id": "c80fce12",
   "metadata": {},
   "outputs": [
    {
     "data": {
      "text/plain": [
       "0.6738662013475808"
      ]
     },
     "execution_count": 28,
     "metadata": {},
     "output_type": "execute_result"
    }
   ],
   "source": [
    "regression_model.score(x_test,y_test)"
   ]
  },
  {
   "cell_type": "code",
   "execution_count": 29,
   "id": "e2a0a083",
   "metadata": {},
   "outputs": [
    {
     "data": {
      "text/plain": [
       "0.6795975642174452"
      ]
     },
     "execution_count": 29,
     "metadata": {},
     "output_type": "execute_result"
    }
   ],
   "source": [
    "regression_model.score(x_train,y_train)"
   ]
  },
  {
   "cell_type": "markdown",
   "id": "c96f8431",
   "metadata": {},
   "source": [
    "### Using Ridge Regression Algoritham to increase accuracy"
   ]
  },
  {
   "cell_type": "code",
   "execution_count": 34,
   "id": "57d43cf6",
   "metadata": {},
   "outputs": [],
   "source": [
    "ridge_reg = Ridge(alpha=1, max_iter=100)"
   ]
  },
  {
   "cell_type": "code",
   "execution_count": 35,
   "id": "90393ec1",
   "metadata": {},
   "outputs": [
    {
     "data": {
      "text/plain": [
       "Ridge(alpha=1, max_iter=100)"
      ]
     },
     "execution_count": 35,
     "metadata": {},
     "output_type": "execute_result"
    }
   ],
   "source": [
    "ridge_reg.fit(x_train, y_train)"
   ]
  },
  {
   "cell_type": "code",
   "execution_count": 36,
   "id": "603ab0ec",
   "metadata": {},
   "outputs": [
    {
     "data": {
      "text/plain": [
       "0.675918171803715"
      ]
     },
     "execution_count": 36,
     "metadata": {},
     "output_type": "execute_result"
    }
   ],
   "source": [
    "ridge_reg.score(x_test, y_test)"
   ]
  },
  {
   "cell_type": "code",
   "execution_count": 37,
   "id": "59349d9d",
   "metadata": {},
   "outputs": [
    {
     "data": {
      "text/plain": [
       "0.6789853288547226"
      ]
     },
     "execution_count": 37,
     "metadata": {},
     "output_type": "execute_result"
    }
   ],
   "source": [
    "ridge_reg.score(x_train, y_train)"
   ]
  },
  {
   "cell_type": "markdown",
   "id": "97d633cd",
   "metadata": {},
   "source": [
    "### Using Ridge Regression Algoritham to increase accuracy"
   ]
  },
  {
   "cell_type": "code",
   "execution_count": 38,
   "id": "9634b30b",
   "metadata": {},
   "outputs": [],
   "source": [
    "lasso_reg = Lasso(alpha=1, max_iter=100)"
   ]
  },
  {
   "cell_type": "code",
   "execution_count": 39,
   "id": "0ff27f13",
   "metadata": {},
   "outputs": [
    {
     "data": {
      "text/plain": [
       "Lasso(alpha=1, max_iter=100)"
      ]
     },
     "execution_count": 39,
     "metadata": {},
     "output_type": "execute_result"
    }
   ],
   "source": [
    "lasso_reg.fit(x_train, y_train)"
   ]
  },
  {
   "cell_type": "code",
   "execution_count": 40,
   "id": "4c493bc9",
   "metadata": {},
   "outputs": [
    {
     "data": {
      "text/plain": [
       "array([1098450.97240898, 1053895.6134072 , 1332623.72476888, ...,\n",
       "        647533.78536093, 1042738.36646318,  702984.79992266])"
      ]
     },
     "execution_count": 40,
     "metadata": {},
     "output_type": "execute_result"
    }
   ],
   "source": [
    "price_predict_lasso = lasso_reg.predict(x)\n",
    "price_predict_lasso"
   ]
  },
  {
   "cell_type": "code",
   "execution_count": 41,
   "id": "afc992fd",
   "metadata": {},
   "outputs": [
    {
     "data": {
      "text/plain": [
       "0.6744286704887782"
      ]
     },
     "execution_count": 41,
     "metadata": {},
     "output_type": "execute_result"
    }
   ],
   "source": [
    "lasso_reg.score(x_test, y_test)"
   ]
  },
  {
   "cell_type": "code",
   "execution_count": 42,
   "id": "eb5ff0cf",
   "metadata": {},
   "outputs": [
    {
     "data": {
      "text/plain": [
       "0.6795066970354462"
      ]
     },
     "execution_count": 42,
     "metadata": {},
     "output_type": "execute_result"
    }
   ],
   "source": [
    "lasso_reg.score(x_train, y_train)"
   ]
  },
  {
   "cell_type": "markdown",
   "id": "81b31044",
   "metadata": {},
   "source": [
    "### 5) Extract slope and intercept value from the model"
   ]
  },
  {
   "cell_type": "code",
   "execution_count": 43,
   "id": "df4d816f",
   "metadata": {},
   "outputs": [
    {
     "name": "stdout",
     "output_type": "stream",
     "text": [
      "Slope:  [ 2.68665812e+05 -4.00542518e+04 -8.85913515e+04  1.28815749e+05\n",
      "  4.15333627e+04  2.20440467e+00  3.59429366e+01 -1.37462453e+00\n",
      "  1.75897916e+05 -2.01066675e+05 -2.88674703e+05  4.08985969e+05\n",
      " -1.41936609e+05  1.25941608e+05  2.48963625e+04 -2.98264088e+05\n",
      " -2.87242745e+05 -3.37777018e+05  5.24291862e+05 -2.03368913e+05\n",
      "  3.79379072e+05  9.21162991e+04  3.41665275e+05 -2.29531214e+03\n",
      " -2.77955888e+05 -3.55391539e+05  1.31846981e+05 -4.42698996e+04\n",
      "  6.31138629e+05  4.67940111e+05  1.92812992e+05  1.50341655e+05\n",
      "  2.47586397e+05  3.29610397e+05  6.20451006e+05 -2.57247255e+05\n",
      "  1.61091461e+05  5.02763642e+04  3.38485570e+05  7.04162561e+05\n",
      "  3.00603160e+05 -1.12088264e+04 -8.04123348e+02  4.81855287e+05\n",
      "  2.41705564e+05  4.64506031e+05  2.66329346e+05 -4.04628979e+05\n",
      " -6.74554969e+04  8.54378069e+05  4.06432475e+05 -2.09664052e+05\n",
      "  1.01740824e+04 -1.44209471e+05 -1.32708133e+05 -1.61705158e+05\n",
      " -2.05754315e+05  0.00000000e+00 -1.23363151e+04  6.22389024e+05\n",
      " -2.87885569e+05  4.64608739e+04 -3.71305598e+05 -4.19376267e+05\n",
      "  6.26258438e+04  1.16240141e+05 -3.64157678e+05  5.33023142e+05\n",
      " -3.02854108e+05  1.01484830e+06 -2.29244806e+04  5.43191005e+04\n",
      "  1.00699197e+05 -3.39366740e+05  6.42939987e+05  3.03371072e+05\n",
      " -8.49880525e+04  5.64919241e+02  1.33750273e+05  1.07108302e+05\n",
      "  1.21970765e+04  5.21445808e+05  1.08601735e+05  2.60696050e+05\n",
      " -1.61043955e+03 -5.66594893e+04  1.74306410e+05  2.93625193e+04\n",
      "  1.04415478e+05  5.13020321e+05 -1.97556710e+05 -3.46111182e+05\n",
      "  0.00000000e+00  3.75196016e+04 -2.60310263e+05 -1.67779974e+05\n",
      "  2.17799107e+05  1.66135911e+05  9.54604379e+04  1.83925196e+05\n",
      " -6.46052467e+03  1.75273729e+05 -2.48110349e+04  1.78979326e+05\n",
      "  1.90121249e+05 -4.57578187e+05  2.15565598e+05  3.89660523e+04\n",
      "  0.00000000e+00  5.11574407e+05 -3.15329772e+05 -2.87489384e+05\n",
      " -3.71950825e+05  2.75828539e+04  9.50170064e+04  9.58852774e+04\n",
      " -2.77626144e+05  1.94774386e+05  2.38396366e+05  2.57780974e+05\n",
      " -8.51080463e+04  4.34953399e+04  4.24470083e+05 -1.05541696e+04\n",
      "  5.08119855e+05  2.25476434e+05 -1.80224059e+04 -2.20362130e+05\n",
      "  1.37928251e+05 -5.28166083e+04 -2.31451752e+04 -9.63298234e+04\n",
      "  1.84520567e+04 -8.83369328e+04 -1.53930659e+05 -5.82768064e+04\n",
      "  1.52903432e+05  2.18701661e+04 -1.91999731e+05  2.39914202e+05\n",
      "  0.00000000e+00  2.46413076e+05  7.34654395e+04 -3.04698872e+05\n",
      " -2.54071558e+05  5.29431317e+04  6.30846691e+05  4.24017208e+05\n",
      "  7.57634704e+05 -7.55792752e+04  5.98374083e+05  6.84336562e+05\n",
      " -3.86094172e+05  1.30914380e+04  3.82804777e+05  4.09774048e+05\n",
      " -2.91735212e+05 -4.43315958e+05 -1.14600721e+05 -1.63479676e+05\n",
      " -3.71751671e+05  3.60714323e+05  6.25681026e+05  2.30894653e+05\n",
      "  1.55997987e+05  2.22819025e+05  3.56901802e+05  5.24056956e+05\n",
      "  1.68919341e+05  1.65957649e+05 -3.80787137e+04 -2.48202913e+05\n",
      " -3.50019983e+05  3.46275917e+05 -2.94109394e+05 -2.30860013e+05\n",
      "  1.64193803e+05 -4.29121121e+04 -6.27430212e+04  1.12911464e+05\n",
      "  5.75498816e+05 -2.84076080e+05  0.00000000e+00 -3.52430044e+05\n",
      " -1.70207182e+05 -2.62837496e+05 -1.69027676e+05 -1.49690550e+05\n",
      " -2.69207649e+05 -2.78553661e+05  4.16605858e+05  3.50723819e+05\n",
      "  1.09488279e+05  2.09511951e+05 -3.73486988e+05 -2.32203450e+05\n",
      " -2.00438726e+05  5.06074515e+04  2.63134663e+05  1.13554266e+05\n",
      " -1.57694565e+05  5.85339357e+05 -2.08789714e+05  5.43660907e+02\n",
      " -4.71360716e+04  2.40757741e+05  0.00000000e+00 -1.04510783e+05\n",
      " -3.18907719e+05  8.75513661e+05  3.92840419e+05 -2.63962237e+05\n",
      "  2.83890862e+05 -2.10790965e+05 -9.94409016e+04  1.46903893e+04\n",
      "  1.52417906e+05  1.29513027e+05  3.61036612e+05 -7.12954848e+03\n",
      " -2.73777970e+05  6.56339179e+05 -1.65655297e+05  2.15449866e+05\n",
      "  0.00000000e+00  5.43142289e+05 -3.95793561e+04 -1.52260500e+05\n",
      " -3.36948979e+04  3.81621588e+04 -1.56033637e+04  4.13667407e+05\n",
      "  5.64005172e+04  2.94934251e+05  1.49862033e+05  7.16663224e+04\n",
      "  2.30439265e+05  2.83856410e+05 -1.71221434e+05 -4.80905911e+04\n",
      "  1.23206992e+05 -2.45018658e+05  6.32962919e+05  7.08192169e+04\n",
      "  1.82004358e+05  1.90627495e+05 -1.67926478e+05  1.00532987e+05\n",
      "  3.90076565e+04 -5.25570081e+04  3.68215969e+05  1.80052965e+05\n",
      "  5.54507335e+05  4.93894550e+05 -3.67984197e+04 -2.49364875e+05\n",
      "  3.91653586e+05  4.80774283e+05  0.00000000e+00 -3.63547668e+05\n",
      " -1.22662747e+04  7.96849601e+04 -1.62364657e+05  4.21836299e+05\n",
      "  1.11781441e+05 -1.69561491e+05  5.51488011e+04  7.11071491e+05\n",
      "  1.86351218e+05  1.55887404e+05  5.95684054e+03 -3.06363523e+04\n",
      "  3.44834334e+05 -1.24317760e+05  5.91928752e+04 -2.42530554e+05\n",
      "  2.01629753e+05  5.68934247e+05  1.58222208e+05 -3.45316644e+05\n",
      "  5.41495052e+05 -1.16267099e+05 -2.06824357e+05  3.96733463e+05\n",
      "  1.61516162e+05 -2.58551562e+05 -5.38585726e+04 -1.71567769e+05\n",
      " -1.61846225e+03 -3.22619599e+05 -2.12250364e+05  6.27335306e+04\n",
      "  9.69765526e+04 -1.49070566e+05 -3.20714620e+05 -3.04919246e+04\n",
      " -6.29238090e+04 -3.77034679e+05  2.71709835e+05 -1.74019992e+05\n",
      " -2.87241245e+05 -3.61453507e+05  4.75361516e+05 -1.98398487e+05\n",
      " -2.48393187e+05 -2.64473610e+05 -3.08574740e+05  5.01624560e+04\n",
      "  2.65971388e+05  5.23654203e+03  2.24679334e+05 -8.44144956e+04\n",
      " -3.52816320e+04  4.93435045e+05 -7.58873122e+04 -2.10455175e+05\n",
      " -1.99774809e+05  1.33994806e+05  1.16886382e+05  6.16752142e+04\n",
      " -2.91884306e+05  5.28415381e+05  3.00552607e+05 -1.53191380e+05\n",
      " -9.54246753e+04  5.18708670e+05 -1.12342517e+05  1.54959976e+05\n",
      " -1.42817260e+05 -2.89717574e+05 -3.60609448e+04 -3.39312164e+05\n",
      " -2.49286277e+05 -3.14467270e+05 -1.55365170e+05 -2.28895270e+05\n",
      "  5.58652916e+04  3.40786014e+05  0.00000000e+00 -3.04040706e+05\n",
      "  1.46562035e+05 -8.90547810e+04 -3.83553684e+04 -2.37213472e+04\n",
      "  4.16726498e+05  6.63466843e+04 -2.74942217e+05  0.00000000e+00\n",
      " -1.93620375e+05  1.07191517e+05  0.00000000e+00 -2.76445793e+05\n",
      " -4.78569849e+05  7.29557964e+04  5.47288209e+04  4.02902471e+04\n",
      "  2.29403878e+04 -1.25854578e+05 -3.38698791e+04  5.79708173e+05\n",
      "  1.95945924e+05 -3.42849536e+05  3.86082170e+05  2.62732969e+04\n",
      " -1.61098619e+05 -2.04359168e+05  7.63878215e+03 -3.45584964e+05\n",
      "  7.41889597e+04  9.95215988e+04 -1.11309377e+05 -1.74296924e+05\n",
      " -1.23350164e+05  3.24087224e+05  3.53821172e+04 -4.30745339e+04\n",
      "  2.20193628e+05  4.39826314e+04  2.90972248e+02  3.07335659e+05\n",
      " -7.69727742e+04 -3.77836850e+04 -1.02473896e+05  9.67128737e+03\n",
      "  1.45790552e+05  6.40773837e+04 -2.10657523e+05 -9.13461493e+04\n",
      "  5.68110760e+03  7.82951109e+04  4.24985495e+03  7.50831669e+05\n",
      "  3.32343458e+04 -1.20400370e+05 -1.30116180e+05 -3.06065044e+05\n",
      " -9.64938058e+04  3.39521031e+03  4.86154762e+04  3.65248015e+04\n",
      " -1.38499931e+05  3.78858720e+04 -2.19734520e+05  0.00000000e+00\n",
      "  1.69686391e+04 -4.44435036e+04  0.00000000e+00  0.00000000e+00\n",
      " -1.59147546e+05 -2.19134676e+04 -2.05998491e+05  3.52629339e+05\n",
      "  3.47688026e+04  5.03021050e+04  8.22683458e+04  4.29764461e+05\n",
      "  2.86516805e+04 -3.25759172e+05 -4.07894038e+04 -3.66665775e+05\n",
      "  5.87186233e+04 -2.92584277e+05  2.59367229e+04 -1.63886022e+05\n",
      "  1.67436795e+05  1.28849294e+05  1.46888156e+05  5.50226126e+04\n",
      "  1.68102175e+05  4.93711454e+04  2.16315330e+05 -1.12318731e+05\n",
      " -2.55950923e+05 -3.75510132e+03 -2.23111456e+04  8.93768206e+03\n",
      " -2.20370644e+04 -1.72935661e+05  1.87397519e+06  1.31361101e+05\n",
      " -1.44405593e+05 -0.00000000e+00 -1.14771298e+05 -6.88692563e+05\n",
      " -2.40693908e+05 -1.15028920e+05 -1.51845230e+05 -1.40306540e+04\n",
      "  1.42771492e+04  5.54259403e+05 -8.52159169e+04 -9.91664377e+01\n",
      "  3.70160557e+04  8.48659292e+04  1.52720888e+05 -5.18930891e+02\n",
      " -9.36740423e+04 -1.08210973e+05  0.00000000e+00  0.00000000e+00\n",
      "  2.09586145e+04  4.23570051e+04 -1.17773154e+04  1.46871137e+04\n",
      " -6.67346910e+04 -4.97006463e+05 -1.80028249e+05 -5.91735417e+04\n",
      " -4.91040975e+05 -1.58784897e+05  7.36687390e+03  5.46321704e+04\n",
      " -5.37616521e+04  4.72567632e+05  1.86087396e+03  9.42143379e+05\n",
      " -1.51111499e+05 -2.62134859e+05 -3.15589245e+03 -1.32484505e+05\n",
      " -7.42316133e+04 -1.16773509e+05 -3.34913907e+04 -8.32905814e+04\n",
      "  1.66221593e+05 -1.10935945e+05  5.55314027e+05  1.01954105e+05\n",
      "  6.30599291e+04  3.49611053e+04 -2.28298067e+04 -9.25473850e+02\n",
      " -7.97891297e+04 -1.27016372e+05  0.00000000e+00 -0.00000000e+00\n",
      "  3.93896876e+04  3.08251774e+04  8.49222249e+04 -1.07047016e+04\n",
      "  6.95727182e+03 -2.55736355e+05 -4.73028267e+04  9.02767555e+04\n",
      "  3.90557076e+04 -2.04855942e+04 -4.09254127e+05  4.98234328e+05\n",
      " -2.98672605e+05  2.16385554e+02  4.62374947e+05 -6.99360747e+04\n",
      " -6.94716987e+03 -1.69632299e+05 -1.75576235e+04 -0.00000000e+00\n",
      "  5.04399032e+05 -2.54911120e+05  5.79450107e+04  1.43010730e+05\n",
      " -1.39444224e+05  2.99942563e+04 -2.67682636e+04 -6.30062628e+04\n",
      "  1.63674880e+05  3.88411761e+04  2.00303484e+05 -5.48721642e+05\n",
      " -3.02715282e+04  5.19372287e+04 -1.03971550e+05  2.39566217e+04\n",
      " -1.52809972e+05 -2.10536867e+05 -4.26471188e+04  0.00000000e+00\n",
      "  3.18898898e+05 -0.00000000e+00  1.15192870e+04  2.00059389e+05\n",
      "  1.02826069e+05 -7.70348390e+04  4.14636965e+04  0.00000000e+00\n",
      " -5.99358986e+04 -2.08706370e+04  4.73740246e+04  2.04568671e+02\n",
      " -1.03756701e+05  0.00000000e+00 -0.00000000e+00 -7.13522716e+04\n",
      "  6.50805575e+04 -3.65876281e+03  0.00000000e+00  1.30175097e+05\n",
      "  2.90541341e+04 -1.85997207e+05  2.85037010e+04  1.74908240e+04\n",
      "  2.43342554e+04 -1.15684463e+05 -3.86936659e+03 -8.40043071e+04\n",
      "  2.13402066e+04  7.50737817e+05 -2.18227344e+05 -1.60095377e+05\n",
      "  1.01225044e+05 -3.32820383e+04  1.82696319e+05 -1.78815150e+04\n",
      " -2.69877154e+05  9.12176495e+04  2.60976878e+05 -3.78101966e+04\n",
      " -7.28608954e+04  2.15143419e+04 -2.14989750e+04 -1.28945443e+05\n",
      " -1.81472420e+05 -8.90527261e+04 -5.26678800e+04 -9.02988155e+04\n",
      "  1.79047655e+05  0.00000000e+00  9.83519480e+04  2.15995724e+05\n",
      "  1.31534063e+05  1.82131393e+05  3.50951807e+04 -7.22636163e+04\n",
      "  5.41948942e+04  2.90118576e+04  7.28932497e+04 -1.19367701e+05\n",
      "  1.23836249e+05  2.08378214e+04 -1.15857200e+05  1.31470507e+05\n",
      "  0.00000000e+00 -3.56010354e+05 -7.69852725e+04  0.00000000e+00\n",
      " -1.37378892e+05  6.44586822e+04 -1.25906323e+05  1.80634046e+05\n",
      " -2.50376708e+04 -2.97935444e+04 -2.35662779e+05 -4.34215470e+04\n",
      " -1.15356775e+05 -5.20268112e+05  2.93960924e+05  8.93994801e+03\n",
      " -1.26264197e+04  1.08407923e+04 -1.65605237e+04 -3.17247227e+04\n",
      " -0.00000000e+00 -1.46656971e+05  7.35821423e+04  1.75763882e+05\n",
      " -2.38163087e+05  0.00000000e+00 -4.28789543e+05  3.45681013e+04\n",
      "  8.92582118e+04  6.75521340e+04 -5.86020340e+05  8.16283296e+04\n",
      " -4.24635178e+05 -7.94497560e+04 -1.97606205e+05 -2.91237425e+05\n",
      "  1.98270812e+03 -2.47269565e+04 -4.62749007e+05  1.19834258e+06\n",
      "  0.00000000e+00  8.34767993e+04 -5.25233711e+04 -1.31421123e+05\n",
      " -2.72002451e+04 -3.54866907e+05 -7.62817506e+03 -1.19892750e+05\n",
      "  0.00000000e+00  4.72949972e+05 -1.42499062e+05 -3.21363182e+04\n",
      " -1.77828480e+05 -9.56544424e+04 -5.34676475e+05 -1.75076994e+05\n",
      "  4.27362631e+04  4.03897310e+04 -2.19578601e+05 -0.00000000e+00\n",
      "  0.00000000e+00  1.07751757e+05 -6.59713825e+04  4.22104277e+05\n",
      " -1.74128842e+05 -9.70742289e+04 -9.43225874e+04 -3.10831909e+05\n",
      "  4.10562718e+04 -7.57999696e+04  5.42127859e+05 -0.00000000e+00\n",
      " -1.17897978e+04  8.67616908e+05  1.27294659e+05 -1.71462479e+05\n",
      " -1.80794567e+05  1.73486510e+05 -8.23615302e+03 -2.74399681e+03\n",
      "  4.10243971e+04  1.37643592e+05 -9.56203655e+04  8.00117505e+04\n",
      " -1.16066353e+04 -1.16440579e+05 -3.10065949e+05  6.28725469e+03\n",
      "  0.00000000e+00  1.11867998e+05 -4.54225118e+04  8.61336607e+04\n",
      "  0.00000000e+00 -1.06798007e+05  6.40165360e+04 -1.32377841e+05\n",
      "  0.00000000e+00  2.01986485e+04  1.69753602e+05  2.38222317e+03\n",
      " -4.05331213e+04 -2.84924045e+05  3.00733031e+04  1.11256037e+05\n",
      " -1.18061249e+05  2.27121400e+04 -3.47943838e+04 -9.21240408e+04\n",
      "  1.49742098e+05  1.16957791e+05 -3.91534252e+03  3.53941676e+04\n",
      "  1.23379205e+05  4.86700925e+04 -5.66069578e+04 -9.60786005e+04\n",
      "  5.70495978e+04  4.60926965e+03  1.98800629e+05 -1.59143709e+04\n",
      " -1.09055883e+04 -1.06822297e+03  1.18936843e+05 -9.86668778e+04\n",
      "  4.62679868e+03  2.11438932e+04  2.18760823e+04  2.16945552e+05\n",
      "  2.97109096e+04  7.80900039e+02  1.08398386e+05  1.38092222e+04\n",
      "  2.17968768e+04 -7.06834501e+04 -9.91039730e+04 -1.08921390e+05\n",
      "  1.74857159e+05  1.17646920e+04 -1.33822954e+02  1.63488378e+04\n",
      "  5.07329529e+03  4.09823822e+03  2.84037573e+03  4.62075009e+04]\n",
      "Intercept:  [697826.11987672]\n"
     ]
    }
   ],
   "source": [
    "print('Slope: ', lasso_reg.coef_)\n",
    "print('Intercept: ', lasso_reg.intercept_)"
   ]
  },
  {
   "cell_type": "markdown",
   "id": "843f2671",
   "metadata": {},
   "source": [
    "### 6) Display Mean Squared Error"
   ]
  },
  {
   "cell_type": "code",
   "execution_count": 44,
   "id": "c4e2dca9",
   "metadata": {},
   "outputs": [
    {
     "data": {
      "text/plain": [
       "132302800146.99731"
      ]
     },
     "execution_count": 44,
     "metadata": {},
     "output_type": "execute_result"
    }
   ],
   "source": [
    "mse = mean_squared_error(y, price_predict_lasso)\n",
    "mse"
   ]
  },
  {
   "cell_type": "code",
   "execution_count": 45,
   "id": "68ddc25b",
   "metadata": {},
   "outputs": [
    {
     "name": "stdout",
     "output_type": "stream",
     "text": [
      "Mean Squared Error:  132302800146.99731\n"
     ]
    }
   ],
   "source": [
    "print('Mean Squared Error: ', mse)"
   ]
  },
  {
   "cell_type": "markdown",
   "id": "0cfe88c7",
   "metadata": {},
   "source": [
    "### 7) Display Mean Absolute Error"
   ]
  },
  {
   "cell_type": "code",
   "execution_count": 46,
   "id": "828a5ae1",
   "metadata": {},
   "outputs": [
    {
     "data": {
      "text/plain": [
       "228815.9903417626"
      ]
     },
     "execution_count": 46,
     "metadata": {},
     "output_type": "execute_result"
    }
   ],
   "source": [
    "mae = mean_absolute_error(y, price_predict_lasso)\n",
    "mae"
   ]
  },
  {
   "cell_type": "code",
   "execution_count": 47,
   "id": "6fd61c62",
   "metadata": {},
   "outputs": [
    {
     "name": "stdout",
     "output_type": "stream",
     "text": [
      "Mean Absolute Error:  228815.9903417626\n"
     ]
    }
   ],
   "source": [
    "print('Mean Absolute Error: ', mae)"
   ]
  },
  {
   "cell_type": "markdown",
   "id": "864a851a",
   "metadata": {},
   "source": [
    "### 8) Display Root Mean Squared Error"
   ]
  },
  {
   "cell_type": "code",
   "execution_count": 48,
   "id": "cd386897",
   "metadata": {},
   "outputs": [
    {
     "data": {
      "text/plain": [
       "363734.5187729607"
      ]
     },
     "execution_count": 48,
     "metadata": {},
     "output_type": "execute_result"
    }
   ],
   "source": [
    "rmse = np.sqrt(mse)\n",
    "rmse"
   ]
  },
  {
   "cell_type": "code",
   "execution_count": 49,
   "id": "55046a8b",
   "metadata": {},
   "outputs": [
    {
     "name": "stdout",
     "output_type": "stream",
     "text": [
      "Root Mean Squared Error:  363734.5187729607\n"
     ]
    }
   ],
   "source": [
    "print('Root Mean Squared Error: ', rmse)"
   ]
  },
  {
   "cell_type": "markdown",
   "id": "86564c77",
   "metadata": {},
   "source": [
    "### 9) Display R2 Score"
   ]
  },
  {
   "cell_type": "code",
   "execution_count": 50,
   "id": "f92ba83b",
   "metadata": {},
   "outputs": [],
   "source": [
    "r2 = round(r2_score(y, price_predict_lasso)*100, 2)"
   ]
  },
  {
   "cell_type": "code",
   "execution_count": 51,
   "id": "216b68f9",
   "metadata": {},
   "outputs": [
    {
     "name": "stdout",
     "output_type": "stream",
     "text": [
      "R2 Score:  67.85\n"
     ]
    }
   ],
   "source": [
    "print('R2 Score: ', r2)"
   ]
  }
 ],
 "metadata": {
  "kernelspec": {
   "display_name": "Python 3 (ipykernel)",
   "language": "python",
   "name": "python3"
  },
  "language_info": {
   "codemirror_mode": {
    "name": "ipython",
    "version": 3
   },
   "file_extension": ".py",
   "mimetype": "text/x-python",
   "name": "python",
   "nbconvert_exporter": "python",
   "pygments_lexer": "ipython3",
   "version": "3.9.7"
  }
 },
 "nbformat": 4,
 "nbformat_minor": 5
}
